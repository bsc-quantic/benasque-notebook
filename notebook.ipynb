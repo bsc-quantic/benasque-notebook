{
 "cells": [
  {
   "cell_type": "markdown",
   "metadata": {},
   "source": [
    "Tensor Network Workshop - Benasque Spring School on Near-Term Quantum Computing"
   ]
  },
  {
   "cell_type": "markdown",
   "metadata": {},
   "source": [
    "First, let's install the requires packages:\n"
   ]
  },
  {
   "cell_type": "code",
   "execution_count": 1,
   "metadata": {},
   "outputs": [
    {
     "name": "stderr",
     "output_type": "stream",
     "text": [
      "┌ Warning: The Pkg REPL mode is intended for interactive use only, and should not be used from scripts. It is recommended to use the functional API instead.\n",
      "└ @ Pkg.REPLMode /home/jofrevalles/.julia/juliaup/julia-1.10.2+0.x64.linux.gnu/share/julia/stdlib/v1.10/Pkg/src/REPLMode/REPLMode.jl:382\n",
      "\u001b[32m\u001b[1m     Cloning\u001b[22m\u001b[39m registry from \"https://github.com/bsc-quantic/Registry\"\n",
      "Registry `Quantic` already exists in `~/.julia/registries/Quantic`.\n",
      "\u001b[32m\u001b[1m   Resolving\u001b[22m\u001b[39m package versions...\n",
      "\u001b[32m\u001b[1m  No Changes\u001b[22m\u001b[39m to `~/.julia/environments/v1.10/Project.toml`\n",
      "\u001b[32m\u001b[1m  No Changes\u001b[22m\u001b[39m to `~/.julia/environments/v1.10/Manifest.toml`\n",
      "\u001b[32m\u001b[1m   Resolving\u001b[22m\u001b[39m package versions...\n",
      "\u001b[32m\u001b[1m  No Changes\u001b[22m\u001b[39m to `~/.julia/environments/v1.10/Project.toml`\n",
      "\u001b[32m\u001b[1m  No Changes\u001b[22m\u001b[39m to `~/.julia/environments/v1.10/Manifest.toml`\n",
      "\u001b[32m\u001b[1m   Resolving\u001b[22m\u001b[39m package versions...\n",
      "\u001b[32m\u001b[1m  No Changes\u001b[22m\u001b[39m to `~/.julia/environments/v1.10/Project.toml`\n",
      "\u001b[32m\u001b[1m  No Changes\u001b[22m\u001b[39m to `~/.julia/environments/v1.10/Manifest.toml`\n",
      "\u001b[32m\u001b[1m    Updating\u001b[22m\u001b[39m git-repo `https://github.com/bsc-quantic/Qrochet.jl.git`\n",
      "\u001b[32m\u001b[1m   Resolving\u001b[22m\u001b[39m package versions...\n",
      "\u001b[32m\u001b[1m  No Changes\u001b[22m\u001b[39m to `~/.julia/environments/v1.10/Project.toml`\n",
      "\u001b[32m\u001b[1m  No Changes\u001b[22m\u001b[39m to `~/.julia/environments/v1.10/Manifest.toml`\n"
     ]
    }
   ],
   "source": [
    "using Pkg\n",
    "pkg\"registry add https://github.com/bsc-quantic/Registry\"\n",
    "\n",
    "Pkg.add(\"Tenet\")\n",
    "Pkg.add(\"EinExprs\")\n",
    "Pkg.add(\"Quac\")\n",
    "Pkg.add(url=\"https://github.com/bsc-quantic/Qrochet.jl.git\")"
   ]
  },
  {
   "cell_type": "markdown",
   "metadata": {},
   "source": [
    "Now let's create a simple quantum circuits with 10 qubits and 10 layers of random gates."
   ]
  },
  {
   "cell_type": "code",
   "execution_count": 2,
   "metadata": {},
   "outputs": [
    {
     "data": {
      "image/svg+xml": [
       "<svg height=\"200\" width=\"300\"><svg height=\"200\" width=\"250\" x=\"0\"><svg height=\"200\" width=\"200\" x=\"0\"><svg height=\"200\" width=\"150\" x=\"0\"><svg height=\"200\" width=\"100\" x=\"0\"><svg width=\"50\" height=\"200\" x=\"0\"><svg width=\"50\" height=\"150\" y=\"0\"><svg viewBox=\"-25 -25 50 50\" width=\"50\" height=\"50\" y=\"0\"><line class=\"wire lane\" x1=\"-25\" y1=\"0\" x2=\"-15\" y2=\"0\"></line><line class=\"wire lane\" x1=\"25\" y1=\"0\" x2=\"15\" y2=\"0\"></line><rect class=\"block\" x=\"-15\" y=\"-15\" width=\"30\" height=\"30\"></rect><text class=\"label\" x=\"0\" y=\"0\">Swap</text><line class=\"wire virtual\" x1=\"0\" y1=\"25\" x2=\"0\" y2=\"15\"></line></svg><svg viewBox=\"-25 -25 50 50\" width=\"50\" height=\"50\" y=\"50\"><line class=\"wire lane\" x1=\"-25\" y1=\"0\" x2=\"25\" y2=\"0\"></line><line class=\"wire virtual\" x1=\"0\" y1=\"-25\" x2=\"0\" y2=\"25\"></line></svg><svg viewBox=\"-25 -25 50 50\" width=\"50\" height=\"50\" y=\"100\"><line class=\"wire lane\" x1=\"-25\" y1=\"0\" x2=\"-15\" y2=\"0\"></line><line class=\"wire lane\" x1=\"25\" y1=\"0\" x2=\"15\" y2=\"0\"></line><rect class=\"block\" x=\"-15\" y=\"-15\" width=\"30\" height=\"30\"></rect><text class=\"label\" x=\"0\" y=\"0\">Swap</text><line class=\"wire virtual\" x1=\"0\" y1=\"-25\" x2=\"0\" y2=\"-15\"></line></svg></svg><svg viewBox=\"-25 -25 50 50\" width=\"50\" height=\"50\" y=\"150\"><line class=\"wire lane\" x1=\"-25\" y1=\"0\" x2=\"25\" y2=\"0\"></line></svg></svg><svg width=\"50\" height=\"200\" x=\"50\"><svg width=\"50\" height=\"150\" y=\"0\"><svg viewBox=\"-25 -25 50 50\" width=\"50\" height=\"50\" y=\"0\"><line class=\"wire lane\" x1=\"-25\" y1=\"0\" x2=\"25\" y2=\"0\"></line></svg><svg width=\"50\" height=\"100\" y=\"50\"><svg viewBox=\"-25 -25 50 50\" width=\"50\" height=\"50\" y=\"0\"><line class=\"wire lane\" x1=\"-25\" y1=\"0\" x2=\"-15\" y2=\"0\"></line><line class=\"wire lane\" x1=\"25\" y1=\"0\" x2=\"15\" y2=\"0\"></line><rect class=\"block\" x=\"-15\" y=\"-15\" width=\"30\" height=\"30\"></rect><text class=\"label\" x=\"0\" y=\"0\">X</text><line class=\"wire virtual\" x1=\"0\" y1=\"25\" x2=\"0\" y2=\"15\"></line></svg><svg viewBox=\"-25 -25 50 50\" width=\"50\" height=\"50\" y=\"50\"><line class=\"wire lane\" x1=\"-25\" y1=\"0\" x2=\"25\" y2=\"0\"></line><circle class=\"copy\" cx=\"0\" cy=\"0\" r=\"5\"></circle><line class=\"wire virtual\" x1=\"0\" y1=\"0\" x2=\"0\" y2=\"-25\"></line></svg></svg></svg><svg viewBox=\"-25 -25 50 50\" width=\"50\" height=\"50\" y=\"150\"><line class=\"wire lane\" x1=\"-25\" y1=\"0\" x2=\"25\" y2=\"0\"></line></svg></svg></svg><svg width=\"50\" height=\"200\" x=\"100\"><svg width=\"50\" height=\"150\" y=\"0\"><svg viewBox=\"-25 -25 50 50\" width=\"50\" height=\"50\" y=\"0\"><line class=\"wire lane\" x1=\"-25\" y1=\"0\" x2=\"25\" y2=\"0\"></line></svg><svg width=\"50\" height=\"100\" y=\"50\"><svg viewBox=\"-25 -25 50 50\" width=\"50\" height=\"50\" y=\"0\"><line class=\"wire lane\" x1=\"-25\" y1=\"0\" x2=\"-15\" y2=\"0\"></line><line class=\"wire lane\" x1=\"25\" y1=\"0\" x2=\"15\" y2=\"0\"></line><rect class=\"block\" x=\"-15\" y=\"-15\" width=\"30\" height=\"30\"></rect><text class=\"label\" x=\"0\" y=\"0\">Swap</text><line class=\"wire virtual\" x1=\"0\" y1=\"25\" x2=\"0\" y2=\"15\"></line></svg><svg viewBox=\"-25 -25 50 50\" width=\"50\" height=\"50\" y=\"50\"><line class=\"wire lane\" x1=\"-25\" y1=\"0\" x2=\"-15\" y2=\"0\"></line><line class=\"wire lane\" x1=\"25\" y1=\"0\" x2=\"15\" y2=\"0\"></line><rect class=\"block\" x=\"-15\" y=\"-15\" width=\"30\" height=\"30\"></rect><text class=\"label\" x=\"0\" y=\"0\">Swap</text><line class=\"wire virtual\" x1=\"0\" y1=\"-25\" x2=\"0\" y2=\"-15\"></line></svg></svg></svg><svg viewBox=\"-25 -25 50 50\" width=\"50\" height=\"50\" y=\"150\"><line class=\"wire lane\" x1=\"-25\" y1=\"0\" x2=\"25\" y2=\"0\"></line></svg></svg></svg><svg width=\"50\" height=\"200\" x=\"150\"><svg width=\"50\" height=\"100\" y=\"0\"><svg viewBox=\"-25 -25 50 50\" width=\"50\" height=\"50\" y=\"0\"><line class=\"wire lane\" x1=\"-25\" y1=\"0\" x2=\"25\" y2=\"0\"></line></svg><svg viewBox=\"-25 -25 50 50\" width=\"50\" height=\"50\" y=\"50\"><line class=\"wire lane\" x1=\"-25\" y1=\"0\" x2=\"25\" y2=\"0\"></line></svg></svg><svg width=\"50\" height=\"100\" y=\"100\"><svg viewBox=\"-25 -25 50 50\" width=\"50\" height=\"50\" y=\"0\"><line class=\"wire lane\" x1=\"-25\" y1=\"0\" x2=\"-15\" y2=\"0\"></line><line class=\"wire lane\" x1=\"25\" y1=\"0\" x2=\"15\" y2=\"0\"></line><rect class=\"block\" x=\"-15\" y=\"-15\" width=\"30\" height=\"30\"></rect><text class=\"label\" x=\"0\" y=\"0\">R<tspan class=\"subscript\">Y</tspan></text><line class=\"wire virtual\" x1=\"0\" y1=\"25\" x2=\"0\" y2=\"15\"></line></svg><svg viewBox=\"-25 -25 50 50\" width=\"50\" height=\"50\" y=\"50\"><line class=\"wire lane\" x1=\"-25\" y1=\"0\" x2=\"25\" y2=\"0\"></line><circle class=\"copy\" cx=\"0\" cy=\"0\" r=\"5\"></circle><line class=\"wire virtual\" x1=\"0\" y1=\"0\" x2=\"0\" y2=\"-25\"></line></svg></svg></svg></svg><svg width=\"50\" height=\"200\" x=\"200\"><svg viewBox=\"-25 -25 50 50\" width=\"50\" height=\"50\" y=\"0\"><line class=\"wire lane\" x1=\"-25\" y1=\"0\" x2=\"25\" y2=\"0\"></line><circle class=\"copy\" cx=\"0\" cy=\"0\" r=\"5\"></circle><line class=\"wire virtual\" x1=\"0\" y1=\"0\" x2=\"0\" y2=\"25\"></line></svg><svg viewBox=\"-25 -25 50 50\" width=\"50\" height=\"50\" y=\"50\"><line class=\"wire lane\" x1=\"-25\" y1=\"0\" x2=\"25\" y2=\"0\"></line><line class=\"wire virtual\" x1=\"0\" y1=\"-25\" x2=\"0\" y2=\"25\"></line></svg><svg viewBox=\"-25 -25 50 50\" width=\"50\" height=\"50\" y=\"100\"><line class=\"wire lane\" x1=\"-25\" y1=\"0\" x2=\"25\" y2=\"0\"></line><line class=\"wire virtual\" x1=\"0\" y1=\"-25\" x2=\"0\" y2=\"25\"></line></svg><svg viewBox=\"-25 -25 50 50\" width=\"50\" height=\"50\" y=\"150\"><line class=\"wire lane\" x1=\"-25\" y1=\"0\" x2=\"-15\" y2=\"0\"></line><line class=\"wire lane\" x1=\"25\" y1=\"0\" x2=\"15\" y2=\"0\"></line><rect class=\"block\" x=\"-15\" y=\"-15\" width=\"30\" height=\"30\"></rect><text class=\"label\" x=\"0\" y=\"0\">Y</text><line class=\"wire virtual\" x1=\"0\" y1=\"-25\" x2=\"0\" y2=\"-15\"></line></svg></svg></svg><svg width=\"50\" height=\"200\" x=\"250\"><svg width=\"50\" height=\"100\" y=\"0\"><svg viewBox=\"-25 -25 50 50\" width=\"50\" height=\"50\" y=\"0\"><line class=\"wire lane\" x1=\"-25\" y1=\"0\" x2=\"25\" y2=\"0\"></line></svg><svg viewBox=\"-25 -25 50 50\" width=\"50\" height=\"50\" y=\"50\"><line class=\"wire lane\" x1=\"-25\" y1=\"0\" x2=\"25\" y2=\"0\"></line></svg></svg><svg width=\"50\" height=\"100\" y=\"100\"><svg viewBox=\"-25 -25 50 50\" width=\"50\" height=\"50\" y=\"0\"><line class=\"wire lane\" x1=\"-25\" y1=\"0\" x2=\"25\" y2=\"0\"></line><circle class=\"copy\" cx=\"0\" cy=\"0\" r=\"5\"></circle><line class=\"wire virtual\" x1=\"0\" y1=\"0\" x2=\"0\" y2=\"25\"></line></svg><svg viewBox=\"-25 -25 50 50\" width=\"50\" height=\"50\" y=\"50\"><line class=\"wire lane\" x1=\"-25\" y1=\"0\" x2=\"-15\" y2=\"0\"></line><line class=\"wire lane\" x1=\"25\" y1=\"0\" x2=\"15\" y2=\"0\"></line><rect class=\"block\" x=\"-15\" y=\"-15\" width=\"30\" height=\"30\"></rect><text class=\"label\" x=\"0\" y=\"0\">R<tspan class=\"subscript\">Z</tspan></text><line class=\"wire virtual\" x1=\"0\" y1=\"-25\" x2=\"0\" y2=\"-15\"></line></svg></svg></svg><style type=\"text/css\">    .wire {\n",
       "        stroke: black;\n",
       "        stroke-width: 2px;\n",
       "    }\n",
       "\n",
       "    .lane {}\n",
       "    .virtual {}\n",
       "\n",
       "    .block {\n",
       "        stroke: black;\n",
       "        fill: transparent;\n",
       "    }\n",
       "\n",
       "    text {\n",
       "        text-anchor: middle;\n",
       "        dominant-baseline: central;\n",
       "    }\n",
       "\n",
       "    subscript {\n",
       "        font-size: 60%;\n",
       "        baseline-shift: sub;\n",
       "    }\n",
       "\n",
       "    superscript {\n",
       "        font-size: 60%;\n",
       "        baseline-shift: super;\n",
       "    }\n",
       "</style></svg>"
      ],
      "text/plain": [
       "Circuit(#lanes=4, #gates=12)"
      ]
     },
     "metadata": {},
     "output_type": "display_data"
    }
   ],
   "source": [
    "using Quac\n",
    "\n",
    "n = 4\n",
    "depth = 2\n",
    "\n",
    "# Define the quantum circuit\n",
    "circ = Circuit(n)\n",
    "gates = [Swap, CX, CY, CZ, CRx, CRy, CRz]\n",
    "for i in 1:n\n",
    "    for j in 1:depth\n",
    "        # We want to apply some entangling gates\n",
    "        k = rand(1:n)\n",
    "        gate = gates[rand(1:length(gates))]\n",
    "        if k != i\n",
    "            push!(circ, gate(k, i))\n",
    "        end\n",
    "    end\n",
    "end\n",
    "\n",
    "circ"
   ]
  },
  {
   "cell_type": "code",
   "execution_count": 3,
   "metadata": {},
   "outputs": [
    {
     "data": {
      "image/svg+xml": [
       "<svg height=\"550\" width=\"300\"><svg height=\"550\" width=\"250\" x=\"0\"><svg height=\"550\" width=\"200\" x=\"0\"><svg height=\"550\" width=\"150\" x=\"0\"><svg height=\"550\" width=\"100\" x=\"0\"><svg width=\"50\" height=\"500\" x=\"0\"><svg width=\"50\" height=\"450\" y=\"0\"><svg width=\"50\" height=\"350\" y=\"0\"><svg width=\"50\" height=\"300\" y=\"0\"><svg width=\"50\" height=\"250\" y=\"0\"><svg viewBox=\"-25 -25 50 50\" width=\"50\" height=\"50\" y=\"0\"><line class=\"wire lane\" x1=\"-25\" y1=\"0\" x2=\"-15\" y2=\"0\"></line><line class=\"wire lane\" x1=\"25\" y1=\"0\" x2=\"15\" y2=\"0\"></line><rect class=\"block\" x=\"-15\" y=\"-15\" width=\"30\" height=\"30\"></rect><text class=\"label\" x=\"0\" y=\"0\">X</text></svg><svg width=\"50\" height=\"200\" y=\"50\"><svg viewBox=\"-25 -25 50 50\" width=\"50\" height=\"50\" y=\"0\"><line class=\"wire lane\" x1=\"-25\" y1=\"0\" x2=\"-15\" y2=\"0\"></line><line class=\"wire lane\" x1=\"25\" y1=\"0\" x2=\"15\" y2=\"0\"></line><rect class=\"block\" x=\"-15\" y=\"-15\" width=\"30\" height=\"30\"></rect><text class=\"label\" x=\"0\" y=\"0\">X</text><line class=\"wire virtual\" x1=\"0\" y1=\"25\" x2=\"0\" y2=\"15\"></line></svg><svg viewBox=\"-25 -25 50 50\" width=\"50\" height=\"50\" y=\"50\"><line class=\"wire lane\" x1=\"-25\" y1=\"0\" x2=\"25\" y2=\"0\"></line><line class=\"wire virtual\" x1=\"0\" y1=\"-25\" x2=\"0\" y2=\"25\"></line></svg><svg viewBox=\"-25 -25 50 50\" width=\"50\" height=\"50\" y=\"100\"><line class=\"wire lane\" x1=\"-25\" y1=\"0\" x2=\"25\" y2=\"0\"></line><line class=\"wire virtual\" x1=\"0\" y1=\"-25\" x2=\"0\" y2=\"25\"></line></svg><svg viewBox=\"-25 -25 50 50\" width=\"50\" height=\"50\" y=\"150\"><line class=\"wire lane\" x1=\"-25\" y1=\"0\" x2=\"25\" y2=\"0\"></line><circle class=\"copy\" cx=\"0\" cy=\"0\" r=\"5\"></circle><line class=\"wire virtual\" x1=\"0\" y1=\"0\" x2=\"0\" y2=\"-25\"></line></svg></svg></svg><svg viewBox=\"-25 -25 50 50\" width=\"50\" height=\"50\" y=\"250\"><line class=\"wire lane\" x1=\"-25\" y1=\"0\" x2=\"-15\" y2=\"0\"></line><line class=\"wire lane\" x1=\"25\" y1=\"0\" x2=\"15\" y2=\"0\"></line><rect class=\"block\" x=\"-15\" y=\"-15\" width=\"30\" height=\"30\"></rect><text class=\"label\" x=\"0\" y=\"0\">X</text></svg></svg><svg viewBox=\"-25 -25 50 50\" width=\"50\" height=\"50\" y=\"300\"><line class=\"wire lane\" x1=\"-25\" y1=\"0\" x2=\"-15\" y2=\"0\"></line><line class=\"wire lane\" x1=\"25\" y1=\"0\" x2=\"15\" y2=\"0\"></line><rect class=\"block\" x=\"-15\" y=\"-15\" width=\"30\" height=\"30\"></rect><text class=\"label\" x=\"0\" y=\"0\">H</text></svg></svg><svg width=\"50\" height=\"100\" y=\"350\"><svg viewBox=\"-25 -25 50 50\" width=\"50\" height=\"50\" y=\"0\"><line class=\"wire lane\" x1=\"-25\" y1=\"0\" x2=\"-15\" y2=\"0\"></line><line class=\"wire lane\" x1=\"25\" y1=\"0\" x2=\"15\" y2=\"0\"></line><rect class=\"block\" x=\"-15\" y=\"-15\" width=\"30\" height=\"30\"></rect><text class=\"label\" x=\"0\" y=\"0\">R<tspan class=\"subscript\">Z</tspan></text><line class=\"wire virtual\" x1=\"0\" y1=\"25\" x2=\"0\" y2=\"15\"></line></svg><svg viewBox=\"-25 -25 50 50\" width=\"50\" height=\"50\" y=\"50\"><line class=\"wire lane\" x1=\"-25\" y1=\"0\" x2=\"25\" y2=\"0\"></line><circle class=\"copy\" cx=\"0\" cy=\"0\" r=\"5\"></circle><line class=\"wire virtual\" x1=\"0\" y1=\"0\" x2=\"0\" y2=\"-25\"></line></svg></svg></svg><svg viewBox=\"-25 -25 50 50\" width=\"50\" height=\"50\" y=\"450\"><line class=\"wire lane\" x1=\"-25\" y1=\"0\" x2=\"25\" y2=\"0\"></line></svg></svg><svg width=\"50\" height=\"550\" x=\"50\"><svg width=\"50\" height=\"500\" y=\"0\"><svg width=\"50\" height=\"250\" y=\"0\"><svg width=\"50\" height=\"100\" y=\"0\"><svg viewBox=\"-25 -25 50 50\" width=\"50\" height=\"50\" y=\"0\"><line class=\"wire lane\" x1=\"-25\" y1=\"0\" x2=\"-15\" y2=\"0\"></line><line class=\"wire lane\" x1=\"25\" y1=\"0\" x2=\"15\" y2=\"0\"></line><rect class=\"block\" x=\"-15\" y=\"-15\" width=\"30\" height=\"30\"></rect><text class=\"label\" x=\"0\" y=\"0\">Z</text></svg><svg viewBox=\"-25 -25 50 50\" width=\"50\" height=\"50\" y=\"50\"><line class=\"wire lane\" x1=\"-25\" y1=\"0\" x2=\"-15\" y2=\"0\"></line><line class=\"wire lane\" x1=\"25\" y1=\"0\" x2=\"15\" y2=\"0\"></line><rect class=\"block\" x=\"-15\" y=\"-15\" width=\"30\" height=\"30\"></rect><text class=\"label\" x=\"0\" y=\"0\">H</text></svg></svg><svg width=\"50\" height=\"150\" y=\"100\"><svg viewBox=\"-25 -25 50 50\" width=\"50\" height=\"50\" y=\"0\"><line class=\"wire lane\" x1=\"-25\" y1=\"0\" x2=\"25\" y2=\"0\"></line><circle class=\"copy\" cx=\"0\" cy=\"0\" r=\"5\"></circle><line class=\"wire virtual\" x1=\"0\" y1=\"0\" x2=\"0\" y2=\"25\"></line></svg><svg viewBox=\"-25 -25 50 50\" width=\"50\" height=\"50\" y=\"50\"><line class=\"wire lane\" x1=\"-25\" y1=\"0\" x2=\"25\" y2=\"0\"></line><line class=\"wire virtual\" x1=\"0\" y1=\"-25\" x2=\"0\" y2=\"25\"></line></svg><svg viewBox=\"-25 -25 50 50\" width=\"50\" height=\"50\" y=\"100\"><line class=\"wire lane\" x1=\"-25\" y1=\"0\" x2=\"-15\" y2=\"0\"></line><line class=\"wire lane\" x1=\"25\" y1=\"0\" x2=\"15\" y2=\"0\"></line><rect class=\"block\" x=\"-15\" y=\"-15\" width=\"30\" height=\"30\"></rect><text class=\"label\" x=\"0\" y=\"0\">R<tspan class=\"subscript\">Z</tspan></text><line class=\"wire virtual\" x1=\"0\" y1=\"-25\" x2=\"0\" y2=\"-15\"></line></svg></svg></svg><svg width=\"50\" height=\"250\" y=\"250\"><svg viewBox=\"-25 -25 50 50\" width=\"50\" height=\"50\" y=\"0\"><line class=\"wire lane\" x1=\"-25\" y1=\"0\" x2=\"25\" y2=\"0\"></line><circle class=\"copy\" cx=\"0\" cy=\"0\" r=\"5\"></circle><line class=\"wire virtual\" x1=\"0\" y1=\"0\" x2=\"0\" y2=\"25\"></line></svg><svg viewBox=\"-25 -25 50 50\" width=\"50\" height=\"50\" y=\"50\"><line class=\"wire lane\" x1=\"-25\" y1=\"0\" x2=\"25\" y2=\"0\"></line><line class=\"wire virtual\" x1=\"0\" y1=\"-25\" x2=\"0\" y2=\"25\"></line></svg><svg viewBox=\"-25 -25 50 50\" width=\"50\" height=\"50\" y=\"100\"><line class=\"wire lane\" x1=\"-25\" y1=\"0\" x2=\"25\" y2=\"0\"></line><line class=\"wire virtual\" x1=\"0\" y1=\"-25\" x2=\"0\" y2=\"25\"></line></svg><svg viewBox=\"-25 -25 50 50\" width=\"50\" height=\"50\" y=\"150\"><line class=\"wire lane\" x1=\"-25\" y1=\"0\" x2=\"25\" y2=\"0\"></line><line class=\"wire virtual\" x1=\"0\" y1=\"-25\" x2=\"0\" y2=\"25\"></line></svg><svg viewBox=\"-25 -25 50 50\" width=\"50\" height=\"50\" y=\"200\"><line class=\"wire lane\" x1=\"-25\" y1=\"0\" x2=\"-15\" y2=\"0\"></line><line class=\"wire lane\" x1=\"25\" y1=\"0\" x2=\"15\" y2=\"0\"></line><rect class=\"block\" x=\"-15\" y=\"-15\" width=\"30\" height=\"30\"></rect><text class=\"label\" x=\"0\" y=\"0\">Z</text><line class=\"wire virtual\" x1=\"0\" y1=\"-25\" x2=\"0\" y2=\"-15\"></line></svg></svg></svg><svg viewBox=\"-25 -25 50 50\" width=\"50\" height=\"50\" y=\"500\"><line class=\"wire lane\" x1=\"-25\" y1=\"0\" x2=\"-15\" y2=\"0\"></line><line class=\"wire lane\" x1=\"25\" y1=\"0\" x2=\"15\" y2=\"0\"></line><rect class=\"block\" x=\"-15\" y=\"-15\" width=\"30\" height=\"30\"></rect><text class=\"label\" x=\"0\" y=\"0\">X</text></svg></svg></svg><svg width=\"50\" height=\"400\" x=\"100\"><svg width=\"50\" height=\"350\" y=\"0\"><svg width=\"50\" height=\"300\" y=\"0\"><svg viewBox=\"-25 -25 50 50\" width=\"50\" height=\"50\" y=\"0\"><line class=\"wire lane\" x1=\"-25\" y1=\"0\" x2=\"25\" y2=\"0\"></line><circle class=\"copy\" cx=\"0\" cy=\"0\" r=\"5\"></circle><line class=\"wire virtual\" x1=\"0\" y1=\"0\" x2=\"0\" y2=\"25\"></line></svg><svg viewBox=\"-25 -25 50 50\" width=\"50\" height=\"50\" y=\"50\"><line class=\"wire lane\" x1=\"-25\" y1=\"0\" x2=\"25\" y2=\"0\"></line><line class=\"wire virtual\" x1=\"0\" y1=\"-25\" x2=\"0\" y2=\"25\"></line></svg><svg viewBox=\"-25 -25 50 50\" width=\"50\" height=\"50\" y=\"100\"><line class=\"wire lane\" x1=\"-25\" y1=\"0\" x2=\"25\" y2=\"0\"></line><line class=\"wire virtual\" x1=\"0\" y1=\"-25\" x2=\"0\" y2=\"25\"></line></svg><svg viewBox=\"-25 -25 50 50\" width=\"50\" height=\"50\" y=\"150\"><line class=\"wire lane\" x1=\"-25\" y1=\"0\" x2=\"25\" y2=\"0\"></line><line class=\"wire virtual\" x1=\"0\" y1=\"-25\" x2=\"0\" y2=\"25\"></line></svg><svg viewBox=\"-25 -25 50 50\" width=\"50\" height=\"50\" y=\"200\"><line class=\"wire lane\" x1=\"-25\" y1=\"0\" x2=\"25\" y2=\"0\"></line><line class=\"wire virtual\" x1=\"0\" y1=\"-25\" x2=\"0\" y2=\"25\"></line></svg><svg viewBox=\"-25 -25 50 50\" width=\"50\" height=\"50\" y=\"250\"><line class=\"wire lane\" x1=\"-25\" y1=\"0\" x2=\"-15\" y2=\"0\"></line><line class=\"wire lane\" x1=\"25\" y1=\"0\" x2=\"15\" y2=\"0\"></line><rect class=\"block\" x=\"-15\" y=\"-15\" width=\"30\" height=\"30\"></rect><text class=\"label\" x=\"0\" y=\"0\">Y</text><line class=\"wire virtual\" x1=\"0\" y1=\"-25\" x2=\"0\" y2=\"-15\"></line></svg></svg><svg viewBox=\"-25 -25 50 50\" width=\"50\" height=\"50\" y=\"300\"><line class=\"wire lane\" x1=\"-25\" y1=\"0\" x2=\"25\" y2=\"0\"></line></svg></svg><svg viewBox=\"-25 -25 50 50\" width=\"50\" height=\"50\" y=\"350\"><line class=\"wire lane\" x1=\"-25\" y1=\"0\" x2=\"25\" y2=\"0\"></line></svg></svg></svg><svg width=\"50\" height=\"400\" x=\"150\"><svg width=\"50\" height=\"350\" y=\"0\"><svg width=\"50\" height=\"200\" y=\"0\"><svg width=\"50\" height=\"100\" y=\"0\"><svg viewBox=\"-25 -25 50 50\" width=\"50\" height=\"50\" y=\"0\"><line class=\"wire lane\" x1=\"-25\" y1=\"0\" x2=\"25\" y2=\"0\"></line></svg><svg viewBox=\"-25 -25 50 50\" width=\"50\" height=\"50\" y=\"50\"><line class=\"wire lane\" x1=\"-25\" y1=\"0\" x2=\"25\" y2=\"0\"></line></svg></svg><svg width=\"50\" height=\"100\" y=\"100\"><svg viewBox=\"-25 -25 50 50\" width=\"50\" height=\"50\" y=\"0\"><line class=\"wire lane\" x1=\"-25\" y1=\"0\" x2=\"-15\" y2=\"0\"></line><line class=\"wire lane\" x1=\"25\" y1=\"0\" x2=\"15\" y2=\"0\"></line><rect class=\"block\" x=\"-15\" y=\"-15\" width=\"30\" height=\"30\"></rect><text class=\"label\" x=\"0\" y=\"0\">X</text><line class=\"wire virtual\" x1=\"0\" y1=\"25\" x2=\"0\" y2=\"15\"></line></svg><svg viewBox=\"-25 -25 50 50\" width=\"50\" height=\"50\" y=\"50\"><line class=\"wire lane\" x1=\"-25\" y1=\"0\" x2=\"25\" y2=\"0\"></line><circle class=\"copy\" cx=\"0\" cy=\"0\" r=\"5\"></circle><line class=\"wire virtual\" x1=\"0\" y1=\"0\" x2=\"0\" y2=\"-25\"></line></svg></svg></svg><svg width=\"50\" height=\"150\" y=\"200\"><svg viewBox=\"-25 -25 50 50\" width=\"50\" height=\"50\" y=\"0\"><line class=\"wire lane\" x1=\"-25\" y1=\"0\" x2=\"-15\" y2=\"0\"></line><line class=\"wire lane\" x1=\"25\" y1=\"0\" x2=\"15\" y2=\"0\"></line><rect class=\"block\" x=\"-15\" y=\"-15\" width=\"30\" height=\"30\"></rect><text class=\"label\" x=\"0\" y=\"0\">Y</text><line class=\"wire virtual\" x1=\"0\" y1=\"25\" x2=\"0\" y2=\"15\"></line></svg><svg viewBox=\"-25 -25 50 50\" width=\"50\" height=\"50\" y=\"50\"><line class=\"wire lane\" x1=\"-25\" y1=\"0\" x2=\"25\" y2=\"0\"></line><line class=\"wire virtual\" x1=\"0\" y1=\"-25\" x2=\"0\" y2=\"25\"></line></svg><svg viewBox=\"-25 -25 50 50\" width=\"50\" height=\"50\" y=\"100\"><line class=\"wire lane\" x1=\"-25\" y1=\"0\" x2=\"25\" y2=\"0\"></line><circle class=\"copy\" cx=\"0\" cy=\"0\" r=\"5\"></circle><line class=\"wire virtual\" x1=\"0\" y1=\"0\" x2=\"0\" y2=\"-25\"></line></svg></svg></svg><svg viewBox=\"-25 -25 50 50\" width=\"50\" height=\"50\" y=\"350\"><line class=\"wire lane\" x1=\"-25\" y1=\"0\" x2=\"25\" y2=\"0\"></line></svg></svg></svg><svg width=\"50\" height=\"300\" x=\"200\"><svg width=\"50\" height=\"250\" y=\"0\"><svg width=\"50\" height=\"200\" y=\"0\"><svg width=\"50\" height=\"100\" y=\"0\"><svg viewBox=\"-25 -25 50 50\" width=\"50\" height=\"50\" y=\"0\"><line class=\"wire lane\" x1=\"-25\" y1=\"0\" x2=\"25\" y2=\"0\"></line></svg><svg viewBox=\"-25 -25 50 50\" width=\"50\" height=\"50\" y=\"50\"><line class=\"wire lane\" x1=\"-25\" y1=\"0\" x2=\"25\" y2=\"0\"></line></svg></svg><svg width=\"50\" height=\"100\" y=\"100\"><svg viewBox=\"-25 -25 50 50\" width=\"50\" height=\"50\" y=\"0\"><line class=\"wire lane\" x1=\"-25\" y1=\"0\" x2=\"25\" y2=\"0\"></line><circle class=\"copy\" cx=\"0\" cy=\"0\" r=\"5\"></circle><line class=\"wire virtual\" x1=\"0\" y1=\"0\" x2=\"0\" y2=\"25\"></line></svg><svg viewBox=\"-25 -25 50 50\" width=\"50\" height=\"50\" y=\"50\"><line class=\"wire lane\" x1=\"-25\" y1=\"0\" x2=\"-15\" y2=\"0\"></line><line class=\"wire lane\" x1=\"25\" y1=\"0\" x2=\"15\" y2=\"0\"></line><rect class=\"block\" x=\"-15\" y=\"-15\" width=\"30\" height=\"30\"></rect><text class=\"label\" x=\"0\" y=\"0\">R<tspan class=\"subscript\">Z</tspan></text><line class=\"wire virtual\" x1=\"0\" y1=\"-25\" x2=\"0\" y2=\"-15\"></line></svg></svg></svg><svg viewBox=\"-25 -25 50 50\" width=\"50\" height=\"50\" y=\"200\"><line class=\"wire lane\" x1=\"-25\" y1=\"0\" x2=\"-15\" y2=\"0\"></line><line class=\"wire lane\" x1=\"25\" y1=\"0\" x2=\"15\" y2=\"0\"></line><rect class=\"block\" x=\"-15\" y=\"-15\" width=\"30\" height=\"30\"></rect><text class=\"label\" x=\"0\" y=\"0\">X</text></svg></svg><svg viewBox=\"-25 -25 50 50\" width=\"50\" height=\"50\" y=\"250\"><line class=\"wire lane\" x1=\"-25\" y1=\"0\" x2=\"25\" y2=\"0\"></line></svg></svg></svg><svg width=\"50\" height=\"400\" x=\"250\"><svg width=\"50\" height=\"150\" y=\"0\"><svg width=\"50\" height=\"100\" y=\"0\"><svg viewBox=\"-25 -25 50 50\" width=\"50\" height=\"50\" y=\"0\"><line class=\"wire lane\" x1=\"-25\" y1=\"0\" x2=\"25\" y2=\"0\"></line></svg><svg viewBox=\"-25 -25 50 50\" width=\"50\" height=\"50\" y=\"50\"><line class=\"wire lane\" x1=\"-25\" y1=\"0\" x2=\"25\" y2=\"0\"></line></svg></svg><svg viewBox=\"-25 -25 50 50\" width=\"50\" height=\"50\" y=\"100\"><line class=\"wire lane\" x1=\"-25\" y1=\"0\" x2=\"25\" y2=\"0\"></line></svg></svg><svg width=\"50\" height=\"250\" y=\"150\"><svg viewBox=\"-25 -25 50 50\" width=\"50\" height=\"50\" y=\"0\"><line class=\"wire lane\" x1=\"-25\" y1=\"0\" x2=\"25\" y2=\"0\"></line><circle class=\"copy\" cx=\"0\" cy=\"0\" r=\"5\"></circle><line class=\"wire virtual\" x1=\"0\" y1=\"0\" x2=\"0\" y2=\"25\"></line></svg><svg viewBox=\"-25 -25 50 50\" width=\"50\" height=\"50\" y=\"50\"><line class=\"wire lane\" x1=\"-25\" y1=\"0\" x2=\"25\" y2=\"0\"></line><line class=\"wire virtual\" x1=\"0\" y1=\"-25\" x2=\"0\" y2=\"25\"></line></svg><svg viewBox=\"-25 -25 50 50\" width=\"50\" height=\"50\" y=\"100\"><line class=\"wire lane\" x1=\"-25\" y1=\"0\" x2=\"25\" y2=\"0\"></line><line class=\"wire virtual\" x1=\"0\" y1=\"-25\" x2=\"0\" y2=\"25\"></line></svg><svg viewBox=\"-25 -25 50 50\" width=\"50\" height=\"50\" y=\"150\"><line class=\"wire lane\" x1=\"-25\" y1=\"0\" x2=\"25\" y2=\"0\"></line><line class=\"wire virtual\" x1=\"0\" y1=\"-25\" x2=\"0\" y2=\"25\"></line></svg><svg viewBox=\"-25 -25 50 50\" width=\"50\" height=\"50\" y=\"200\"><line class=\"wire lane\" x1=\"-25\" y1=\"0\" x2=\"-15\" y2=\"0\"></line><line class=\"wire lane\" x1=\"25\" y1=\"0\" x2=\"15\" y2=\"0\"></line><rect class=\"block\" x=\"-15\" y=\"-15\" width=\"30\" height=\"30\"></rect><text class=\"label\" x=\"0\" y=\"0\">R<tspan class=\"subscript\">X</tspan></text><line class=\"wire virtual\" x1=\"0\" y1=\"-25\" x2=\"0\" y2=\"-15\"></line></svg></svg></svg><style type=\"text/css\">    .wire {\n",
       "        stroke: black;\n",
       "        stroke-width: 2px;\n",
       "    }\n",
       "\n",
       "    .lane {}\n",
       "    .virtual {}\n",
       "\n",
       "    .block {\n",
       "        stroke: black;\n",
       "        fill: transparent;\n",
       "    }\n",
       "\n",
       "    text {\n",
       "        text-anchor: middle;\n",
       "        dominant-baseline: central;\n",
       "    }\n",
       "\n",
       "    subscript {\n",
       "        font-size: 60%;\n",
       "        baseline-shift: sub;\n",
       "    }\n",
       "\n",
       "    superscript {\n",
       "        font-size: 60%;\n",
       "        baseline-shift: super;\n",
       "    }\n",
       "</style></svg>"
      ],
      "text/plain": [
       "Circuit(#lanes=8, #gates=25)"
      ]
     },
     "metadata": {},
     "output_type": "display_data"
    }
   ],
   "source": [
    "using Quac\n",
    "\n",
    "# Set the number of qubits and the depth of the circuit\n",
    "n = 8\n",
    "depth = 2\n",
    "\n",
    "# Define the quantum circuit\n",
    "circ = Circuit(n)\n",
    "single_qubit_gates = [X, Y, Z, H]  # List of possible single-qubit gates\n",
    "two_qubit_gates = [Swap, CX, CY, CZ, CRx, CRy, CRz]   # List of possible two-qubit gates\n",
    "\n",
    "# Populate the circuit with a mix of single and two-qubit random gates\n",
    "for layer in 1:depth\n",
    "    for qubit in 1:n\n",
    "        if rand() < 0.5\n",
    "            # 50% chance to add a single-qubit gate\n",
    "            gate = single_qubit_gates[rand(1:length(single_qubit_gates))]\n",
    "            push!(circ, gate(qubit))  # Example angle π/4, modify as needed\n",
    "        else\n",
    "            # 50% chance to add a two-qubit gate\n",
    "            partner = rand(setdiff(1:n, qubit))\n",
    "            gate = two_qubit_gates[rand(1:length(two_qubit_gates))]\n",
    "            push!(circ, gate(partner, qubit))\n",
    "        end\n",
    "    end\n",
    "end\n",
    "\n",
    "# Display the created circuit\n",
    "circ"
   ]
  },
  {
   "cell_type": "markdown",
   "metadata": {},
   "source": [
    "Now let's convert this circuit to a tensor network with `Tenet`"
   ]
  },
  {
   "cell_type": "code",
   "execution_count": 3,
   "metadata": {},
   "outputs": [
    {
     "name": "stderr",
     "output_type": "stream",
     "text": [
      "\u001b[32m\u001b[1m   Resolving\u001b[22m\u001b[39m package versions...\n",
      "\u001b[32m\u001b[1m  No Changes\u001b[22m\u001b[39m to `~/.julia/environments/v1.10/Project.toml`\n",
      "\u001b[32m\u001b[1m  No Changes\u001b[22m\u001b[39m to `~/.julia/environments/v1.10/Manifest.toml`\n",
      "\u001b[32m\u001b[1m   Resolving\u001b[22m\u001b[39m package versions...\n",
      "\u001b[32m\u001b[1m  No Changes\u001b[22m\u001b[39m to `~/.julia/environments/v1.10/Project.toml`\n",
      "\u001b[32m\u001b[1m  No Changes\u001b[22m\u001b[39m to `~/.julia/environments/v1.10/Manifest.toml`\n"
     ]
    }
   ],
   "source": [
    "using Pkg\n",
    "Pkg.add(\"CairoMakie\") # For plotting\n",
    "Pkg.add(\"GraphMakie\") # For plotting"
   ]
  },
  {
   "cell_type": "code",
   "execution_count": 4,
   "metadata": {},
   "outputs": [
    {
     "data": {
      "image/png": "[encoded data removed]"
     },
     "metadata": {},
     "output_type": "display_data"
    }
   ],
   "source": [
    "using CairoMakie\n",
    "using GraphMakie\n",
    "using Tenet\n",
    "using Qrochet\n",
    "\n",
    "qtn = Quantum(circ)\n",
    "tn = TensorNetwork(qtn)\n",
    "plot(tn)"
   ]
  },
  {
   "cell_type": "markdown",
   "metadata": {},
   "source": [
    "We get a `Tensor Network` object that contains the tensor network representation of the circuit. It has $2N$ open indices, where $N$ is the number of qubits in the circuit, since we need to connect the input and output  qubits of the circuit to the tensor network."
   ]
  },
  {
   "cell_type": "code",
   "execution_count": 5,
   "metadata": {},
   "outputs": [
    {
     "data": {
      "image/png": "[encoded data removed]"
     },
     "metadata": {},
     "output_type": "display_data"
    }
   ],
   "source": [
    "using EinExprs\n",
    "\n",
    "path = einexpr(tn, optimizer=Greedy())\n",
    "plot(path)"
   ]
  },
  {
   "cell_type": "code",
   "execution_count": 7,
   "metadata": {},
   "outputs": [
    {
     "data": {
      "text/plain": [
       "(134560, 16)"
      ]
     },
     "metadata": {},
     "output_type": "display_data"
    }
   ],
   "source": [
    "total_flops = mapreduce(flops, +, Branches(path))\n",
    "max_dims = maximum(ndims, Branches(path))\n",
    "\n",
    "total_flops, max_dims"
   ]
  },
  {
   "cell_type": "markdown",
   "metadata": {},
   "source": [
    "Let's contract the circuit:"
   ]
  },
  {
   "cell_type": "code",
   "execution_count": 8,
   "metadata": {},
   "outputs": [
    {
     "data": {
      "text/plain": [
       "0-dimensional Tensor{ComplexF64, 0, Array{ComplexF64, 0}}:\n",
       "0.0 + 0.0im"
      ]
     },
     "metadata": {},
     "output_type": "display_data"
    }
   ],
   "source": [
    "# tn = TensorNetwork(qtn)\n",
    "\n",
    "ψᵢₙ = Product(fill([1, 0], n))\n",
    "ψₒᵤₜ = Product(fill([1, 0], n))\n",
    "\n",
    "Qrochet.@reindex! inputs(qtn) => outputs(ψᵢₙ)\n",
    "Qrochet.@reindex! outputs(qtn) => outputs(ψₒᵤₜ)\n",
    "\n",
    "contract(merge(TensorNetwork(ψᵢₙ), TensorNetwork(qtn), TensorNetwork(ψₒᵤₜ)))\n",
    "\n",
    "# tn = view(tn, [i => 1 for i in inds(tn, set=:open)]...)\n",
    "\n",
    "# c = contract(tn)"
   ]
  },
  {
   "cell_type": "code",
   "execution_count": 9,
   "metadata": {},
   "outputs": [
    {
     "data": {
      "text/plain": [
       "(406, 4)"
      ]
     },
     "metadata": {},
     "output_type": "display_data"
    }
   ],
   "source": [
    "new_tn = merge(TensorNetwork(ψᵢₙ), TensorNetwork(qtn), TensorNetwork(ψₒᵤₜ))\n",
    "\n",
    "path = einexpr(new_tn, optimizer=Greedy())\n",
    "\n",
    "total_flops = mapreduce(flops, +, Branches(path))\n",
    "max_dims = maximum(ndims, Branches(path))\n",
    "\n",
    "total_flops, max_dims"
   ]
  },
  {
   "cell_type": "markdown",
   "metadata": {},
   "source": [
    "Let's create a more complex circuit"
   ]
  },
  {
   "cell_type": "code",
   "execution_count": 10,
   "metadata": {},
   "outputs": [
    {
     "data": {
      "image/svg+xml": [
       "<svg height=\"200\" width=\"350\"><svg height=\"200\" width=\"300\" x=\"0\"><svg height=\"200\" width=\"250\" x=\"0\"><svg height=\"200\" width=\"200\" x=\"0\"><svg height=\"200\" width=\"150\" x=\"0\"><svg height=\"200\" width=\"100\" x=\"0\"><svg width=\"50\" height=\"200\" x=\"0\"><svg width=\"50\" height=\"150\" y=\"0\"><svg viewBox=\"-25 -25 50 50\" width=\"50\" height=\"50\" y=\"0\"><line class=\"wire lane\" x1=\"-25\" y1=\"0\" x2=\"-15\" y2=\"0\"></line><line class=\"wire lane\" x1=\"25\" y1=\"0\" x2=\"15\" y2=\"0\"></line><rect class=\"block\" x=\"-15\" y=\"-15\" width=\"30\" height=\"30\"></rect><text class=\"label\" x=\"0\" y=\"0\">SU<tspan class=\"subscript\">2</tspan></text><line class=\"wire virtual\" x1=\"0\" y1=\"25\" x2=\"0\" y2=\"15\"></line></svg><svg viewBox=\"-25 -25 50 50\" width=\"50\" height=\"50\" y=\"50\"><line class=\"wire lane\" x1=\"-25\" y1=\"0\" x2=\"25\" y2=\"0\"></line><line class=\"wire virtual\" x1=\"0\" y1=\"-25\" x2=\"0\" y2=\"25\"></line></svg><svg viewBox=\"-25 -25 50 50\" width=\"50\" height=\"50\" y=\"100\"><line class=\"wire lane\" x1=\"-25\" y1=\"0\" x2=\"-15\" y2=\"0\"></line><line class=\"wire lane\" x1=\"25\" y1=\"0\" x2=\"15\" y2=\"0\"></line><rect class=\"block\" x=\"-15\" y=\"-15\" width=\"30\" height=\"30\"></rect><text class=\"label\" x=\"0\" y=\"0\">SU<tspan class=\"subscript\">2</tspan></text><line class=\"wire virtual\" x1=\"0\" y1=\"-25\" x2=\"0\" y2=\"-15\"></line></svg></svg><svg viewBox=\"-25 -25 50 50\" width=\"50\" height=\"50\" y=\"150\"><line class=\"wire lane\" x1=\"-25\" y1=\"0\" x2=\"25\" y2=\"0\"></line></svg></svg><svg width=\"50\" height=\"200\" x=\"50\"><svg viewBox=\"-25 -25 50 50\" width=\"50\" height=\"50\" y=\"0\"><line class=\"wire lane\" x1=\"-25\" y1=\"0\" x2=\"25\" y2=\"0\"></line></svg><svg width=\"50\" height=\"150\" y=\"50\"><svg viewBox=\"-25 -25 50 50\" width=\"50\" height=\"50\" y=\"0\"><line class=\"wire lane\" x1=\"-25\" y1=\"0\" x2=\"-15\" y2=\"0\"></line><line class=\"wire lane\" x1=\"25\" y1=\"0\" x2=\"15\" y2=\"0\"></line><rect class=\"block\" x=\"-15\" y=\"-15\" width=\"30\" height=\"30\"></rect><text class=\"label\" x=\"0\" y=\"0\">SU<tspan class=\"subscript\">2</tspan></text><line class=\"wire virtual\" x1=\"0\" y1=\"25\" x2=\"0\" y2=\"15\"></line></svg><svg viewBox=\"-25 -25 50 50\" width=\"50\" height=\"50\" y=\"50\"><line class=\"wire lane\" x1=\"-25\" y1=\"0\" x2=\"25\" y2=\"0\"></line><line class=\"wire virtual\" x1=\"0\" y1=\"-25\" x2=\"0\" y2=\"25\"></line></svg><svg viewBox=\"-25 -25 50 50\" width=\"50\" height=\"50\" y=\"100\"><line class=\"wire lane\" x1=\"-25\" y1=\"0\" x2=\"-15\" y2=\"0\"></line><line class=\"wire lane\" x1=\"25\" y1=\"0\" x2=\"15\" y2=\"0\"></line><rect class=\"block\" x=\"-15\" y=\"-15\" width=\"30\" height=\"30\"></rect><text class=\"label\" x=\"0\" y=\"0\">SU<tspan class=\"subscript\">2</tspan></text><line class=\"wire virtual\" x1=\"0\" y1=\"-25\" x2=\"0\" y2=\"-15\"></line></svg></svg></svg></svg><svg width=\"50\" height=\"200\" x=\"100\"><svg width=\"50\" height=\"100\" y=\"0\"><svg viewBox=\"-25 -25 50 50\" width=\"50\" height=\"50\" y=\"0\"><line class=\"wire lane\" x1=\"-25\" y1=\"0\" x2=\"-15\" y2=\"0\"></line><line class=\"wire lane\" x1=\"25\" y1=\"0\" x2=\"15\" y2=\"0\"></line><rect class=\"block\" x=\"-15\" y=\"-15\" width=\"30\" height=\"30\"></rect><text class=\"label\" x=\"0\" y=\"0\">SU<tspan class=\"subscript\">2</tspan></text><line class=\"wire virtual\" x1=\"0\" y1=\"25\" x2=\"0\" y2=\"15\"></line></svg><svg viewBox=\"-25 -25 50 50\" width=\"50\" height=\"50\" y=\"50\"><line class=\"wire lane\" x1=\"-25\" y1=\"0\" x2=\"-15\" y2=\"0\"></line><line class=\"wire lane\" x1=\"25\" y1=\"0\" x2=\"15\" y2=\"0\"></line><rect class=\"block\" x=\"-15\" y=\"-15\" width=\"30\" height=\"30\"></rect><text class=\"label\" x=\"0\" y=\"0\">SU<tspan class=\"subscript\">2</tspan></text><line class=\"wire virtual\" x1=\"0\" y1=\"-25\" x2=\"0\" y2=\"-15\"></line></svg></svg><svg width=\"50\" height=\"100\" y=\"100\"><svg viewBox=\"-25 -25 50 50\" width=\"50\" height=\"50\" y=\"0\"><line class=\"wire lane\" x1=\"-25\" y1=\"0\" x2=\"-15\" y2=\"0\"></line><line class=\"wire lane\" x1=\"25\" y1=\"0\" x2=\"15\" y2=\"0\"></line><rect class=\"block\" x=\"-15\" y=\"-15\" width=\"30\" height=\"30\"></rect><text class=\"label\" x=\"0\" y=\"0\">SU<tspan class=\"subscript\">2</tspan></text><line class=\"wire virtual\" x1=\"0\" y1=\"25\" x2=\"0\" y2=\"15\"></line></svg><svg viewBox=\"-25 -25 50 50\" width=\"50\" height=\"50\" y=\"50\"><line class=\"wire lane\" x1=\"-25\" y1=\"0\" x2=\"-15\" y2=\"0\"></line><line class=\"wire lane\" x1=\"25\" y1=\"0\" x2=\"15\" y2=\"0\"></line><rect class=\"block\" x=\"-15\" y=\"-15\" width=\"30\" height=\"30\"></rect><text class=\"label\" x=\"0\" y=\"0\">SU<tspan class=\"subscript\">2</tspan></text><line class=\"wire virtual\" x1=\"0\" y1=\"-25\" x2=\"0\" y2=\"-15\"></line></svg></svg></svg></svg><svg width=\"50\" height=\"200\" x=\"150\"><svg viewBox=\"-25 -25 50 50\" width=\"50\" height=\"50\" y=\"0\"><line class=\"wire lane\" x1=\"-25\" y1=\"0\" x2=\"-15\" y2=\"0\"></line><line class=\"wire lane\" x1=\"25\" y1=\"0\" x2=\"15\" y2=\"0\"></line><rect class=\"block\" x=\"-15\" y=\"-15\" width=\"30\" height=\"30\"></rect><text class=\"label\" x=\"0\" y=\"0\">SU<tspan class=\"subscript\">2</tspan></text><line class=\"wire virtual\" x1=\"0\" y1=\"25\" x2=\"0\" y2=\"15\"></line></svg><svg viewBox=\"-25 -25 50 50\" width=\"50\" height=\"50\" y=\"50\"><line class=\"wire lane\" x1=\"-25\" y1=\"0\" x2=\"25\" y2=\"0\"></line><line class=\"wire virtual\" x1=\"0\" y1=\"-25\" x2=\"0\" y2=\"25\"></line></svg><svg viewBox=\"-25 -25 50 50\" width=\"50\" height=\"50\" y=\"100\"><line class=\"wire lane\" x1=\"-25\" y1=\"0\" x2=\"25\" y2=\"0\"></line><line class=\"wire virtual\" x1=\"0\" y1=\"-25\" x2=\"0\" y2=\"25\"></line></svg><svg viewBox=\"-25 -25 50 50\" width=\"50\" height=\"50\" y=\"150\"><line class=\"wire lane\" x1=\"-25\" y1=\"0\" x2=\"-15\" y2=\"0\"></line><line class=\"wire lane\" x1=\"25\" y1=\"0\" x2=\"15\" y2=\"0\"></line><rect class=\"block\" x=\"-15\" y=\"-15\" width=\"30\" height=\"30\"></rect><text class=\"label\" x=\"0\" y=\"0\">SU<tspan class=\"subscript\">2</tspan></text><line class=\"wire virtual\" x1=\"0\" y1=\"-25\" x2=\"0\" y2=\"-15\"></line></svg></svg></svg><svg width=\"50\" height=\"200\" x=\"200\"><svg width=\"50\" height=\"150\" y=\"0\"><svg viewBox=\"-25 -25 50 50\" width=\"50\" height=\"50\" y=\"0\"><line class=\"wire lane\" x1=\"-25\" y1=\"0\" x2=\"25\" y2=\"0\"></line></svg><svg width=\"50\" height=\"100\" y=\"50\"><svg viewBox=\"-25 -25 50 50\" width=\"50\" height=\"50\" y=\"0\"><line class=\"wire lane\" x1=\"-25\" y1=\"0\" x2=\"-15\" y2=\"0\"></line><line class=\"wire lane\" x1=\"25\" y1=\"0\" x2=\"15\" y2=\"0\"></line><rect class=\"block\" x=\"-15\" y=\"-15\" width=\"30\" height=\"30\"></rect><text class=\"label\" x=\"0\" y=\"0\">SU<tspan class=\"subscript\">2</tspan></text><line class=\"wire virtual\" x1=\"0\" y1=\"25\" x2=\"0\" y2=\"15\"></line></svg><svg viewBox=\"-25 -25 50 50\" width=\"50\" height=\"50\" y=\"50\"><line class=\"wire lane\" x1=\"-25\" y1=\"0\" x2=\"-15\" y2=\"0\"></line><line class=\"wire lane\" x1=\"25\" y1=\"0\" x2=\"15\" y2=\"0\"></line><rect class=\"block\" x=\"-15\" y=\"-15\" width=\"30\" height=\"30\"></rect><text class=\"label\" x=\"0\" y=\"0\">SU<tspan class=\"subscript\">2</tspan></text><line class=\"wire virtual\" x1=\"0\" y1=\"-25\" x2=\"0\" y2=\"-15\"></line></svg></svg></svg><svg viewBox=\"-25 -25 50 50\" width=\"50\" height=\"50\" y=\"150\"><line class=\"wire lane\" x1=\"-25\" y1=\"0\" x2=\"25\" y2=\"0\"></line></svg></svg></svg><svg width=\"50\" height=\"200\" x=\"250\"><svg width=\"50\" height=\"150\" y=\"0\"><svg viewBox=\"-25 -25 50 50\" width=\"50\" height=\"50\" y=\"0\"><line class=\"wire lane\" x1=\"-25\" y1=\"0\" x2=\"-15\" y2=\"0\"></line><line class=\"wire lane\" x1=\"25\" y1=\"0\" x2=\"15\" y2=\"0\"></line><rect class=\"block\" x=\"-15\" y=\"-15\" width=\"30\" height=\"30\"></rect><text class=\"label\" x=\"0\" y=\"0\">SU<tspan class=\"subscript\">2</tspan></text><line class=\"wire virtual\" x1=\"0\" y1=\"25\" x2=\"0\" y2=\"15\"></line></svg><svg viewBox=\"-25 -25 50 50\" width=\"50\" height=\"50\" y=\"50\"><line class=\"wire lane\" x1=\"-25\" y1=\"0\" x2=\"25\" y2=\"0\"></line><line class=\"wire virtual\" x1=\"0\" y1=\"-25\" x2=\"0\" y2=\"25\"></line></svg><svg viewBox=\"-25 -25 50 50\" width=\"50\" height=\"50\" y=\"100\"><line class=\"wire lane\" x1=\"-25\" y1=\"0\" x2=\"-15\" y2=\"0\"></line><line class=\"wire lane\" x1=\"25\" y1=\"0\" x2=\"15\" y2=\"0\"></line><rect class=\"block\" x=\"-15\" y=\"-15\" width=\"30\" height=\"30\"></rect><text class=\"label\" x=\"0\" y=\"0\">SU<tspan class=\"subscript\">2</tspan></text><line class=\"wire virtual\" x1=\"0\" y1=\"-25\" x2=\"0\" y2=\"-15\"></line></svg></svg><svg viewBox=\"-25 -25 50 50\" width=\"50\" height=\"50\" y=\"150\"><line class=\"wire lane\" x1=\"-25\" y1=\"0\" x2=\"25\" y2=\"0\"></line></svg></svg></svg><svg width=\"50\" height=\"200\" x=\"300\"><svg viewBox=\"-25 -25 50 50\" width=\"50\" height=\"50\" y=\"0\"><line class=\"wire lane\" x1=\"-25\" y1=\"0\" x2=\"25\" y2=\"0\"></line></svg><svg width=\"50\" height=\"150\" y=\"50\"><svg viewBox=\"-25 -25 50 50\" width=\"50\" height=\"50\" y=\"0\"><line class=\"wire lane\" x1=\"-25\" y1=\"0\" x2=\"-15\" y2=\"0\"></line><line class=\"wire lane\" x1=\"25\" y1=\"0\" x2=\"15\" y2=\"0\"></line><rect class=\"block\" x=\"-15\" y=\"-15\" width=\"30\" height=\"30\"></rect><text class=\"label\" x=\"0\" y=\"0\">SU<tspan class=\"subscript\">2</tspan></text><line class=\"wire virtual\" x1=\"0\" y1=\"25\" x2=\"0\" y2=\"15\"></line></svg><svg viewBox=\"-25 -25 50 50\" width=\"50\" height=\"50\" y=\"50\"><line class=\"wire lane\" x1=\"-25\" y1=\"0\" x2=\"25\" y2=\"0\"></line><line class=\"wire virtual\" x1=\"0\" y1=\"-25\" x2=\"0\" y2=\"25\"></line></svg><svg viewBox=\"-25 -25 50 50\" width=\"50\" height=\"50\" y=\"100\"><line class=\"wire lane\" x1=\"-25\" y1=\"0\" x2=\"-15\" y2=\"0\"></line><line class=\"wire lane\" x1=\"25\" y1=\"0\" x2=\"15\" y2=\"0\"></line><rect class=\"block\" x=\"-15\" y=\"-15\" width=\"30\" height=\"30\"></rect><text class=\"label\" x=\"0\" y=\"0\">SU<tspan class=\"subscript\">2</tspan></text><line class=\"wire virtual\" x1=\"0\" y1=\"-25\" x2=\"0\" y2=\"-15\"></line></svg></svg></svg><style type=\"text/css\">    .wire {\n",
       "        stroke: black;\n",
       "        stroke-width: 2px;\n",
       "    }\n",
       "\n",
       "    .lane {}\n",
       "    .virtual {}\n",
       "\n",
       "    .block {\n",
       "        stroke: black;\n",
       "        fill: transparent;\n",
       "    }\n",
       "\n",
       "    text {\n",
       "        text-anchor: middle;\n",
       "        dominant-baseline: central;\n",
       "    }\n",
       "\n",
       "    subscript {\n",
       "        font-size: 60%;\n",
       "        baseline-shift: sub;\n",
       "    }\n",
       "\n",
       "    superscript {\n",
       "        font-size: 60%;\n",
       "        baseline-shift: super;\n",
       "    }\n",
       "</style></svg>"
      ],
      "text/plain": [
       "Circuit(#lanes=4, #gates=16)"
      ]
     },
     "metadata": {},
     "output_type": "display_data"
    }
   ],
   "source": [
    "n = 4\n",
    "depth = 4\n",
    "\n",
    "Array{T, M}(op::SU{N}) where {T, N, M} = (@assert M == 2 * N \"M must be exactly 2 * N\"; Array{T, 2N}(reshape(Matrix{T}(op), fill(2, 2N)...)))\n",
    "circ = Quac.Algorithms.QuantumVolume(n, depth)"
   ]
  },
  {
   "cell_type": "code",
   "execution_count": 11,
   "metadata": {},
   "outputs": [
    {
     "data": {
      "image/png": "[encoded data removed]"
     },
     "metadata": {},
     "output_type": "display_data"
    }
   ],
   "source": [
    "qtn = Quantum(circ)\n",
    "\n",
    "ψᵢₙ = Product(fill([1, 0], n))\n",
    "ψₒᵤₜ = Product(fill([1, 0], n))\n",
    "\n",
    "tn = merge(TensorNetwork(ψᵢₙ), TensorNetwork(qtn), TensorNetwork(ψₒᵤₜ))\n",
    "\n",
    "plot(tn)"
   ]
  },
  {
   "cell_type": "code",
   "execution_count": 21,
   "metadata": {},
   "outputs": [
    {
     "data": {
      "text/plain": [
       "(72192, 16)"
      ]
     },
     "metadata": {},
     "output_type": "display_data"
    }
   ],
   "source": [
    "path = einexpr(tn, optimizer=Greedy())\n",
    "\n",
    "total_flops = mapreduce(flops, +, Branches(path))\n",
    "max_dims = maximum(ndims, Branches(path))\n",
    "\n",
    "total_flops, max_dims"
   ]
  },
  {
   "cell_type": "markdown",
   "metadata": {},
   "source": [
    "Much larger circuit!! We need an approximation! We will use MPS"
   ]
  },
  {
   "cell_type": "code",
   "execution_count": 6,
   "metadata": {},
   "outputs": [
    {
     "data": {
      "image/svg+xml": [
       "<svg height=\"150\" width=\"200\"><svg height=\"150\" width=\"150\" x=\"0\"><svg height=\"150\" width=\"100\" x=\"0\"><svg width=\"50\" height=\"150\" x=\"0\"><svg width=\"50\" height=\"100\" y=\"0\"><svg viewBox=\"-25 -25 50 50\" width=\"50\" height=\"50\" y=\"0\"><line class=\"wire lane\" x1=\"-25\" y1=\"0\" x2=\"-15\" y2=\"0\"></line><line class=\"wire lane\" x1=\"25\" y1=\"0\" x2=\"15\" y2=\"0\"></line><rect class=\"block\" x=\"-15\" y=\"-15\" width=\"30\" height=\"30\"></rect><text class=\"label\" x=\"0\" y=\"0\">SU<tspan class=\"subscript\">2</tspan></text><line class=\"wire virtual\" x1=\"0\" y1=\"25\" x2=\"0\" y2=\"15\"></line></svg><svg viewBox=\"-25 -25 50 50\" width=\"50\" height=\"50\" y=\"50\"><line class=\"wire lane\" x1=\"-25\" y1=\"0\" x2=\"-15\" y2=\"0\"></line><line class=\"wire lane\" x1=\"25\" y1=\"0\" x2=\"15\" y2=\"0\"></line><rect class=\"block\" x=\"-15\" y=\"-15\" width=\"30\" height=\"30\"></rect><text class=\"label\" x=\"0\" y=\"0\">SU<tspan class=\"subscript\">2</tspan></text><line class=\"wire virtual\" x1=\"0\" y1=\"-25\" x2=\"0\" y2=\"-15\"></line></svg></svg><svg viewBox=\"-25 -25 50 50\" width=\"50\" height=\"50\" y=\"100\"><line class=\"wire lane\" x1=\"-25\" y1=\"0\" x2=\"25\" y2=\"0\"></line></svg></svg><svg width=\"50\" height=\"150\" x=\"50\"><svg viewBox=\"-25 -25 50 50\" width=\"50\" height=\"50\" y=\"0\"><line class=\"wire lane\" x1=\"-25\" y1=\"0\" x2=\"-15\" y2=\"0\"></line><line class=\"wire lane\" x1=\"25\" y1=\"0\" x2=\"15\" y2=\"0\"></line><rect class=\"block\" x=\"-15\" y=\"-15\" width=\"30\" height=\"30\"></rect><text class=\"label\" x=\"0\" y=\"0\">SU<tspan class=\"subscript\">2</tspan></text><line class=\"wire virtual\" x1=\"0\" y1=\"25\" x2=\"0\" y2=\"15\"></line></svg><svg viewBox=\"-25 -25 50 50\" width=\"50\" height=\"50\" y=\"50\"><line class=\"wire lane\" x1=\"-25\" y1=\"0\" x2=\"25\" y2=\"0\"></line><line class=\"wire virtual\" x1=\"0\" y1=\"-25\" x2=\"0\" y2=\"25\"></line></svg><svg viewBox=\"-25 -25 50 50\" width=\"50\" height=\"50\" y=\"100\"><line class=\"wire lane\" x1=\"-25\" y1=\"0\" x2=\"-15\" y2=\"0\"></line><line class=\"wire lane\" x1=\"25\" y1=\"0\" x2=\"15\" y2=\"0\"></line><rect class=\"block\" x=\"-15\" y=\"-15\" width=\"30\" height=\"30\"></rect><text class=\"label\" x=\"0\" y=\"0\">SU<tspan class=\"subscript\">2</tspan></text><line class=\"wire virtual\" x1=\"0\" y1=\"-25\" x2=\"0\" y2=\"-15\"></line></svg></svg></svg><svg width=\"50\" height=\"150\" x=\"100\"><svg width=\"50\" height=\"100\" y=\"0\"><svg viewBox=\"-25 -25 50 50\" width=\"50\" height=\"50\" y=\"0\"><line class=\"wire lane\" x1=\"-25\" y1=\"0\" x2=\"-15\" y2=\"0\"></line><line class=\"wire lane\" x1=\"25\" y1=\"0\" x2=\"15\" y2=\"0\"></line><rect class=\"block\" x=\"-15\" y=\"-15\" width=\"30\" height=\"30\"></rect><text class=\"label\" x=\"0\" y=\"0\">SU<tspan class=\"subscript\">2</tspan></text><line class=\"wire virtual\" x1=\"0\" y1=\"25\" x2=\"0\" y2=\"15\"></line></svg><svg viewBox=\"-25 -25 50 50\" width=\"50\" height=\"50\" y=\"50\"><line class=\"wire lane\" x1=\"-25\" y1=\"0\" x2=\"-15\" y2=\"0\"></line><line class=\"wire lane\" x1=\"25\" y1=\"0\" x2=\"15\" y2=\"0\"></line><rect class=\"block\" x=\"-15\" y=\"-15\" width=\"30\" height=\"30\"></rect><text class=\"label\" x=\"0\" y=\"0\">SU<tspan class=\"subscript\">2</tspan></text><line class=\"wire virtual\" x1=\"0\" y1=\"-25\" x2=\"0\" y2=\"-15\"></line></svg></svg><svg viewBox=\"-25 -25 50 50\" width=\"50\" height=\"50\" y=\"100\"><line class=\"wire lane\" x1=\"-25\" y1=\"0\" x2=\"25\" y2=\"0\"></line></svg></svg></svg><svg width=\"50\" height=\"150\" x=\"150\"><svg viewBox=\"-25 -25 50 50\" width=\"50\" height=\"50\" y=\"0\"><line class=\"wire lane\" x1=\"-25\" y1=\"0\" x2=\"-15\" y2=\"0\"></line><line class=\"wire lane\" x1=\"25\" y1=\"0\" x2=\"15\" y2=\"0\"></line><rect class=\"block\" x=\"-15\" y=\"-15\" width=\"30\" height=\"30\"></rect><text class=\"label\" x=\"0\" y=\"0\">SU<tspan class=\"subscript\">2</tspan></text><line class=\"wire virtual\" x1=\"0\" y1=\"25\" x2=\"0\" y2=\"15\"></line></svg><svg viewBox=\"-25 -25 50 50\" width=\"50\" height=\"50\" y=\"50\"><line class=\"wire lane\" x1=\"-25\" y1=\"0\" x2=\"25\" y2=\"0\"></line><line class=\"wire virtual\" x1=\"0\" y1=\"-25\" x2=\"0\" y2=\"25\"></line></svg><svg viewBox=\"-25 -25 50 50\" width=\"50\" height=\"50\" y=\"100\"><line class=\"wire lane\" x1=\"-25\" y1=\"0\" x2=\"-15\" y2=\"0\"></line><line class=\"wire lane\" x1=\"25\" y1=\"0\" x2=\"15\" y2=\"0\"></line><rect class=\"block\" x=\"-15\" y=\"-15\" width=\"30\" height=\"30\"></rect><text class=\"label\" x=\"0\" y=\"0\">SU<tspan class=\"subscript\">2</tspan></text><line class=\"wire virtual\" x1=\"0\" y1=\"-25\" x2=\"0\" y2=\"-15\"></line></svg></svg><style type=\"text/css\">    .wire {\n",
       "        stroke: black;\n",
       "        stroke-width: 2px;\n",
       "    }\n",
       "\n",
       "    .lane {}\n",
       "    .virtual {}\n",
       "\n",
       "    .block {\n",
       "        stroke: black;\n",
       "        fill: transparent;\n",
       "    }\n",
       "\n",
       "    text {\n",
       "        text-anchor: middle;\n",
       "        dominant-baseline: central;\n",
       "    }\n",
       "\n",
       "    subscript {\n",
       "        font-size: 60%;\n",
       "        baseline-shift: sub;\n",
       "    }\n",
       "\n",
       "    superscript {\n",
       "        font-size: 60%;\n",
       "        baseline-shift: super;\n",
       "    }\n",
       "</style></svg>"
      ],
      "text/plain": [
       "Circuit(#lanes=3, #gates=8)"
      ]
     },
     "metadata": {},
     "output_type": "display_data"
    }
   ],
   "source": [
    "n = 3\n",
    "depth = 4\n",
    "\n",
    "Array{T, M}(op::SU{N}) where {T, N, M} = (@assert M == 2 * N \"M must be exactly 2 * N\"; Array{T, 2N}(reshape(Matrix{T}(op), fill(2, 2N)...)))\n",
    "circ = Quac.Algorithms.QuantumVolume(n, depth)"
   ]
  },
  {
   "cell_type": "code",
   "execution_count": 7,
   "metadata": {},
   "outputs": [
    {
     "name": "stdout",
     "output_type": "stream",
     "text": [
      "gate type:SU{2}(ComplexF64[-0.5015479378587728 - 0.29010053562485527im 0.3891675703732655 + 0.09145498146280372im -0.015217047104142022 - 0.10543888085837247im 0.7017334632230107 + 0.026403868447556655im; -0.4079873930564329 - 0.15690134582227186im -0.7451996288812706 - 0.1834049789382923im 0.442478276654676 - 0.13891298585556117im 0.06965167302676781 - 0.005760477064398514im; -0.33847436966892935 - 0.01409309767841821im -0.024303522562402702 - 0.37752566455284076im -0.5899941970408751 - 0.39383574923756454im -0.2723059307482194 + 0.4059186214378038im; -0.41094265656951956 - 0.43541040264627756im -0.04219704900269035 + 0.3260794930714409im -0.2667204586239918 + 0.44634928919194156im -0.4204744426093159 - 0.29371625701409554im]) qubits:(1, 2)\n",
      "gate type:SU{2}(ComplexF64[-0.3676170706674682 - 0.2618799593826861im 0.13135049582238273 - 0.35553750953068847im 0.651814146934 + 0.3282590934512408im 0.2544686488842391 - 0.23504615493520303im; -0.07788094341179795 - 0.00577927378175855im -0.07510496217510809 - 0.741590114606864im -0.5459235376560895 - 0.1262887148394772im 0.32948334945539837 - 0.12555428782325023im; -0.6425331669677475 - 0.41340946428395675im -0.12517041313372892 + 0.45117077647070764im -0.27467994500130466 - 0.21304820123134482im 0.27090895331086123 - 0.052827768302110514im; -0.45052231307233886 - 0.058746272104997305im -0.07767667657956139 - 0.2747491677663259im -0.06155895949452284 + 0.16963143350406887im -0.5449062162843119 + 0.6185229473455303im]) qubits:(1, 3)\n",
      "gate type:SU{2}(ComplexF64[-0.07888432035753423 - 0.47092468519771125im 0.5779614439907914 - 0.14798582050896347im -0.171450758461844 - 0.5525233416834375im 0.07839029011318996 + 0.2743091828490793im; -0.21452615249040957 - 0.36220958603333403im 0.10426220851856549 + 0.10706203823452852im 0.41238380716557116 + 0.1463105910608879im 0.6223343545933185 - 0.47083183319639943im; -0.3058190511330643 - 0.4193253661526435im -0.1721362072844762 + 0.6309834988908865im -0.47535365841513877 + 0.11024163358483649im -0.2270497939036005 - 0.11490852134797036im; -0.43203079353690493 - 0.3725322660619944im -0.36890194296258416 - 0.24055806945481603im 0.48145042294215085 + 0.0628217538244695im -0.2967849047855924 + 0.39596706133697357im]) qubits:(2, 1)\n",
      "gate type:SU{2}(ComplexF64[-0.5179145308232835 - 0.024403985664172814im 0.37246403001480405 - 0.16505893974883784im -0.3728020007827856 - 0.49330154455782027im -0.2013796234987138 - 0.3772447197624626im; -0.07030241567410053 - 0.47003223308198455im -0.16215993095423897 - 0.20666847068889804im 0.2568022687244774 - 0.18205880834659766im -0.6687378869174784 + 0.39851774604514384im; -0.2658042978421195 - 0.2590103295229514im -0.6448527041609879 - 0.47393336334521874im 0.03064878667894244 + 0.10350127721572192im 0.2801907208519834 - 0.362843187798654im; -0.2677724258418473 - 0.5439263800074349im 0.16785669171264614 + 0.3104749279120381im -0.36006180356972733 + 0.6142337295610988im -0.030676278698441584 + 0.0016912364926781054im]) qubits:(1, 3)\n",
      "gate type:SU{2}(ComplexF64[-0.5015479378587728 - 0.29010053562485527im 0.3891675703732655 + 0.09145498146280372im -0.015217047104142022 - 0.10543888085837247im 0.7017334632230107 + 0.026403868447556655im; -0.4079873930564329 - 0.15690134582227186im -0.7451996288812706 - 0.1834049789382923im 0.442478276654676 - 0.13891298585556117im 0.06965167302676781 - 0.005760477064398514im; -0.33847436966892935 - 0.01409309767841821im -0.024303522562402702 - 0.37752566455284076im -0.5899941970408751 - 0.39383574923756454im -0.2723059307482194 + 0.4059186214378038im; -0.41094265656951956 - 0.43541040264627756im -0.04219704900269035 + 0.3260794930714409im -0.2667204586239918 + 0.44634928919194156im -0.4204744426093159 - 0.29371625701409554im]) qubits:(1, 2)\n",
      "gate type:SU{2}(ComplexF64[-0.07888432035753423 - 0.47092468519771125im 0.5779614439907914 - 0.14798582050896347im -0.171450758461844 - 0.5525233416834375im 0.07839029011318996 + 0.2743091828490793im; -0.21452615249040957 - 0.36220958603333403im 0.10426220851856549 + 0.10706203823452852im 0.41238380716557116 + 0.1463105910608879im 0.6223343545933185 - 0.47083183319639943im; -0.3058190511330643 - 0.4193253661526435im -0.1721362072844762 + 0.6309834988908865im -0.47535365841513877 + 0.11024163358483649im -0.2270497939036005 - 0.11490852134797036im; -0.43203079353690493 - 0.3725322660619944im -0.36890194296258416 - 0.24055806945481603im 0.48145042294215085 + 0.0628217538244695im -0.2967849047855924 + 0.39596706133697357im]) qubits:(2, 1)\n",
      "gate type:SU{2}(ComplexF64[-0.3676170706674682 - 0.2618799593826861im 0.13135049582238273 - 0.35553750953068847im 0.651814146934 + 0.3282590934512408im 0.2544686488842391 - 0.23504615493520303im; -0.07788094341179795 - 0.00577927378175855im -0.07510496217510809 - 0.741590114606864im -0.5459235376560895 - 0.1262887148394772im 0.32948334945539837 - 0.12555428782325023im; -0.6425331669677475 - 0.41340946428395675im -0.12517041313372892 + 0.45117077647070764im -0.27467994500130466 - 0.21304820123134482im 0.27090895331086123 - 0.052827768302110514im; -0.45052231307233886 - 0.058746272104997305im -0.07767667657956139 - 0.2747491677663259im -0.06155895949452284 + 0.16963143350406887im -0.5449062162843119 + 0.6185229473455303im]) qubits:(1, 3)\n",
      "gate type:SU{2}(ComplexF64[-0.5179145308232835 - 0.024403985664172814im 0.37246403001480405 - 0.16505893974883784im -0.3728020007827856 - 0.49330154455782027im -0.2013796234987138 - 0.3772447197624626im; -0.07030241567410053 - 0.47003223308198455im -0.16215993095423897 - 0.20666847068889804im 0.2568022687244774 - 0.18205880834659766im -0.6687378869174784 + 0.39851774604514384im; -0.2658042978421195 - 0.2590103295229514im -0.6448527041609879 - 0.47393336334521874im 0.03064878667894244 + 0.10350127721572192im 0.2801907208519834 - 0.362843187798654im; -0.2677724258418473 - 0.5439263800074349im 0.16785669171264614 + 0.3104749279120381im -0.36006180356972733 + 0.6142337295610988im -0.030676278698441584 + 0.0016912364926781054im]) qubits:(1, 3)\n"
     ]
    }
   ],
   "source": [
    "\n",
    "for i in 1:lanes(circ)\n",
    "    for gate in circ.lanes[i]\n",
    "        if isa(gate, Quac.Element{Gate})\n",
    "            println(\"gate type:\",gate.data.operator, \" qubits:\", gate.data.lanes)\n",
    "        end\n",
    "    end\n",
    "end"
   ]
  },
  {
   "cell_type": "code",
   "execution_count": 159,
   "metadata": {},
   "outputs": [
    {
     "name": "stdout",
     "output_type": "stream",
     "text": [
      "start_qubit:1 expected_qubits:1:2\n",
      "start_qubit:2 expected_qubits:2:3\n",
      "start_qubit:1 expected_qubits:1:2\n",
      "start_qubit:3 expected_qubits:3:4\n"
     ]
    },
    {
     "data": {
      "image/svg+xml": [
       "<svg height=\"200\" width=\"350\"><svg height=\"200\" width=\"300\" x=\"0\"><svg height=\"200\" width=\"250\" x=\"0\"><svg height=\"200\" width=\"200\" x=\"0\"><svg height=\"200\" width=\"150\" x=\"0\"><svg height=\"200\" width=\"100\" x=\"0\"><svg width=\"50\" height=\"200\" x=\"0\"><svg width=\"50\" height=\"150\" y=\"0\"><svg viewBox=\"-25 -25 50 50\" width=\"50\" height=\"50\" y=\"0\"><line class=\"wire lane\" x1=\"-25\" y1=\"0\" x2=\"25\" y2=\"0\"></line></svg><svg width=\"50\" height=\"100\" y=\"50\"><svg viewBox=\"-25 -25 50 50\" width=\"50\" height=\"50\" y=\"0\"><line class=\"wire lane\" x1=\"-25\" y1=\"0\" x2=\"-15\" y2=\"0\"></line><line class=\"wire lane\" x1=\"25\" y1=\"0\" x2=\"15\" y2=\"0\"></line><rect class=\"block\" x=\"-15\" y=\"-15\" width=\"30\" height=\"30\"></rect><text class=\"label\" x=\"0\" y=\"0\">Swap</text><line class=\"wire virtual\" x1=\"0\" y1=\"25\" x2=\"0\" y2=\"15\"></line></svg><svg viewBox=\"-25 -25 50 50\" width=\"50\" height=\"50\" y=\"50\"><line class=\"wire lane\" x1=\"-25\" y1=\"0\" x2=\"-15\" y2=\"0\"></line><line class=\"wire lane\" x1=\"25\" y1=\"0\" x2=\"15\" y2=\"0\"></line><rect class=\"block\" x=\"-15\" y=\"-15\" width=\"30\" height=\"30\"></rect><text class=\"label\" x=\"0\" y=\"0\">Swap</text><line class=\"wire virtual\" x1=\"0\" y1=\"-25\" x2=\"0\" y2=\"-15\"></line></svg></svg></svg><svg viewBox=\"-25 -25 50 50\" width=\"50\" height=\"50\" y=\"150\"><line class=\"wire lane\" x1=\"-25\" y1=\"0\" x2=\"25\" y2=\"0\"></line></svg></svg><svg width=\"50\" height=\"200\" x=\"50\"><svg width=\"50\" height=\"150\" y=\"0\"><svg width=\"50\" height=\"100\" y=\"0\"><svg viewBox=\"-25 -25 50 50\" width=\"50\" height=\"50\" y=\"0\"><line class=\"wire lane\" x1=\"-25\" y1=\"0\" x2=\"-15\" y2=\"0\"></line><line class=\"wire lane\" x1=\"25\" y1=\"0\" x2=\"15\" y2=\"0\"></line><rect class=\"block\" x=\"-15\" y=\"-15\" width=\"30\" height=\"30\"></rect><text class=\"label\" x=\"0\" y=\"0\">SU<tspan class=\"subscript\">2</tspan></text><line class=\"wire virtual\" x1=\"0\" y1=\"25\" x2=\"0\" y2=\"15\"></line></svg><svg viewBox=\"-25 -25 50 50\" width=\"50\" height=\"50\" y=\"50\"><line class=\"wire lane\" x1=\"-25\" y1=\"0\" x2=\"-15\" y2=\"0\"></line><line class=\"wire lane\" x1=\"25\" y1=\"0\" x2=\"15\" y2=\"0\"></line><rect class=\"block\" x=\"-15\" y=\"-15\" width=\"30\" height=\"30\"></rect><text class=\"label\" x=\"0\" y=\"0\">SU<tspan class=\"subscript\">2</tspan></text><line class=\"wire virtual\" x1=\"0\" y1=\"-25\" x2=\"0\" y2=\"-15\"></line></svg></svg><svg viewBox=\"-25 -25 50 50\" width=\"50\" height=\"50\" y=\"100\"><line class=\"wire lane\" x1=\"-25\" y1=\"0\" x2=\"25\" y2=\"0\"></line></svg></svg><svg viewBox=\"-25 -25 50 50\" width=\"50\" height=\"50\" y=\"150\"><line class=\"wire lane\" x1=\"-25\" y1=\"0\" x2=\"25\" y2=\"0\"></line></svg></svg></svg><svg width=\"50\" height=\"200\" x=\"100\"><svg width=\"50\" height=\"150\" y=\"0\"><svg viewBox=\"-25 -25 50 50\" width=\"50\" height=\"50\" y=\"0\"><line class=\"wire lane\" x1=\"-25\" y1=\"0\" x2=\"25\" y2=\"0\"></line></svg><svg width=\"50\" height=\"100\" y=\"50\"><svg viewBox=\"-25 -25 50 50\" width=\"50\" height=\"50\" y=\"0\"><line class=\"wire lane\" x1=\"-25\" y1=\"0\" x2=\"-15\" y2=\"0\"></line><line class=\"wire lane\" x1=\"25\" y1=\"0\" x2=\"15\" y2=\"0\"></line><rect class=\"block\" x=\"-15\" y=\"-15\" width=\"30\" height=\"30\"></rect><text class=\"label\" x=\"0\" y=\"0\">Swap</text><line class=\"wire virtual\" x1=\"0\" y1=\"25\" x2=\"0\" y2=\"15\"></line></svg><svg viewBox=\"-25 -25 50 50\" width=\"50\" height=\"50\" y=\"50\"><line class=\"wire lane\" x1=\"-25\" y1=\"0\" x2=\"-15\" y2=\"0\"></line><line class=\"wire lane\" x1=\"25\" y1=\"0\" x2=\"15\" y2=\"0\"></line><rect class=\"block\" x=\"-15\" y=\"-15\" width=\"30\" height=\"30\"></rect><text class=\"label\" x=\"0\" y=\"0\">Swap</text><line class=\"wire virtual\" x1=\"0\" y1=\"-25\" x2=\"0\" y2=\"-15\"></line></svg></svg></svg><svg viewBox=\"-25 -25 50 50\" width=\"50\" height=\"50\" y=\"150\"><line class=\"wire lane\" x1=\"-25\" y1=\"0\" x2=\"25\" y2=\"0\"></line></svg></svg></svg><svg width=\"50\" height=\"200\" x=\"150\"><svg width=\"50\" height=\"100\" y=\"0\"><svg viewBox=\"-25 -25 50 50\" width=\"50\" height=\"50\" y=\"0\"><line class=\"wire lane\" x1=\"-25\" y1=\"0\" x2=\"25\" y2=\"0\"></line></svg><svg viewBox=\"-25 -25 50 50\" width=\"50\" height=\"50\" y=\"50\"><line class=\"wire lane\" x1=\"-25\" y1=\"0\" x2=\"25\" y2=\"0\"></line></svg></svg><svg width=\"50\" height=\"100\" y=\"100\"><svg viewBox=\"-25 -25 50 50\" width=\"50\" height=\"50\" y=\"0\"><line class=\"wire lane\" x1=\"-25\" y1=\"0\" x2=\"-15\" y2=\"0\"></line><line class=\"wire lane\" x1=\"25\" y1=\"0\" x2=\"15\" y2=\"0\"></line><rect class=\"block\" x=\"-15\" y=\"-15\" width=\"30\" height=\"30\"></rect><text class=\"label\" x=\"0\" y=\"0\">Swap</text><line class=\"wire virtual\" x1=\"0\" y1=\"25\" x2=\"0\" y2=\"15\"></line></svg><svg viewBox=\"-25 -25 50 50\" width=\"50\" height=\"50\" y=\"50\"><line class=\"wire lane\" x1=\"-25\" y1=\"0\" x2=\"-15\" y2=\"0\"></line><line class=\"wire lane\" x1=\"25\" y1=\"0\" x2=\"15\" y2=\"0\"></line><rect class=\"block\" x=\"-15\" y=\"-15\" width=\"30\" height=\"30\"></rect><text class=\"label\" x=\"0\" y=\"0\">Swap</text><line class=\"wire virtual\" x1=\"0\" y1=\"-25\" x2=\"0\" y2=\"-15\"></line></svg></svg></svg></svg><svg width=\"50\" height=\"200\" x=\"200\"><svg width=\"50\" height=\"150\" y=\"0\"><svg viewBox=\"-25 -25 50 50\" width=\"50\" height=\"50\" y=\"0\"><line class=\"wire lane\" x1=\"-25\" y1=\"0\" x2=\"25\" y2=\"0\"></line></svg><svg width=\"50\" height=\"100\" y=\"50\"><svg viewBox=\"-25 -25 50 50\" width=\"50\" height=\"50\" y=\"0\"><line class=\"wire lane\" x1=\"-25\" y1=\"0\" x2=\"-15\" y2=\"0\"></line><line class=\"wire lane\" x1=\"25\" y1=\"0\" x2=\"15\" y2=\"0\"></line><rect class=\"block\" x=\"-15\" y=\"-15\" width=\"30\" height=\"30\"></rect><text class=\"label\" x=\"0\" y=\"0\">SU<tspan class=\"subscript\">2</tspan></text><line class=\"wire virtual\" x1=\"0\" y1=\"25\" x2=\"0\" y2=\"15\"></line></svg><svg viewBox=\"-25 -25 50 50\" width=\"50\" height=\"50\" y=\"50\"><line class=\"wire lane\" x1=\"-25\" y1=\"0\" x2=\"-15\" y2=\"0\"></line><line class=\"wire lane\" x1=\"25\" y1=\"0\" x2=\"15\" y2=\"0\"></line><rect class=\"block\" x=\"-15\" y=\"-15\" width=\"30\" height=\"30\"></rect><text class=\"label\" x=\"0\" y=\"0\">SU<tspan class=\"subscript\">2</tspan></text><line class=\"wire virtual\" x1=\"0\" y1=\"-25\" x2=\"0\" y2=\"-15\"></line></svg></svg></svg><svg viewBox=\"-25 -25 50 50\" width=\"50\" height=\"50\" y=\"150\"><line class=\"wire lane\" x1=\"-25\" y1=\"0\" x2=\"25\" y2=\"0\"></line></svg></svg></svg><svg width=\"50\" height=\"200\" x=\"250\"><svg width=\"50\" height=\"100\" y=\"0\"><svg viewBox=\"-25 -25 50 50\" width=\"50\" height=\"50\" y=\"0\"><line class=\"wire lane\" x1=\"-25\" y1=\"0\" x2=\"-15\" y2=\"0\"></line><line class=\"wire lane\" x1=\"25\" y1=\"0\" x2=\"15\" y2=\"0\"></line><rect class=\"block\" x=\"-15\" y=\"-15\" width=\"30\" height=\"30\"></rect><text class=\"label\" x=\"0\" y=\"0\">SU<tspan class=\"subscript\">2</tspan></text><line class=\"wire virtual\" x1=\"0\" y1=\"25\" x2=\"0\" y2=\"15\"></line></svg><svg viewBox=\"-25 -25 50 50\" width=\"50\" height=\"50\" y=\"50\"><line class=\"wire lane\" x1=\"-25\" y1=\"0\" x2=\"-15\" y2=\"0\"></line><line class=\"wire lane\" x1=\"25\" y1=\"0\" x2=\"15\" y2=\"0\"></line><rect class=\"block\" x=\"-15\" y=\"-15\" width=\"30\" height=\"30\"></rect><text class=\"label\" x=\"0\" y=\"0\">SU<tspan class=\"subscript\">2</tspan></text><line class=\"wire virtual\" x1=\"0\" y1=\"-25\" x2=\"0\" y2=\"-15\"></line></svg></svg><svg width=\"50\" height=\"100\" y=\"100\"><svg viewBox=\"-25 -25 50 50\" width=\"50\" height=\"50\" y=\"0\"><line class=\"wire lane\" x1=\"-25\" y1=\"0\" x2=\"-15\" y2=\"0\"></line><line class=\"wire lane\" x1=\"25\" y1=\"0\" x2=\"15\" y2=\"0\"></line><rect class=\"block\" x=\"-15\" y=\"-15\" width=\"30\" height=\"30\"></rect><text class=\"label\" x=\"0\" y=\"0\">Swap</text><line class=\"wire virtual\" x1=\"0\" y1=\"25\" x2=\"0\" y2=\"15\"></line></svg><svg viewBox=\"-25 -25 50 50\" width=\"50\" height=\"50\" y=\"50\"><line class=\"wire lane\" x1=\"-25\" y1=\"0\" x2=\"-15\" y2=\"0\"></line><line class=\"wire lane\" x1=\"25\" y1=\"0\" x2=\"15\" y2=\"0\"></line><rect class=\"block\" x=\"-15\" y=\"-15\" width=\"30\" height=\"30\"></rect><text class=\"label\" x=\"0\" y=\"0\">Swap</text><line class=\"wire virtual\" x1=\"0\" y1=\"-25\" x2=\"0\" y2=\"-15\"></line></svg></svg></svg></svg><svg width=\"50\" height=\"200\" x=\"300\"><svg width=\"50\" height=\"100\" y=\"0\"><svg viewBox=\"-25 -25 50 50\" width=\"50\" height=\"50\" y=\"0\"><line class=\"wire lane\" x1=\"-25\" y1=\"0\" x2=\"25\" y2=\"0\"></line></svg><svg viewBox=\"-25 -25 50 50\" width=\"50\" height=\"50\" y=\"50\"><line class=\"wire lane\" x1=\"-25\" y1=\"0\" x2=\"25\" y2=\"0\"></line></svg></svg><svg width=\"50\" height=\"100\" y=\"100\"><svg viewBox=\"-25 -25 50 50\" width=\"50\" height=\"50\" y=\"0\"><line class=\"wire lane\" x1=\"-25\" y1=\"0\" x2=\"-15\" y2=\"0\"></line><line class=\"wire lane\" x1=\"25\" y1=\"0\" x2=\"15\" y2=\"0\"></line><rect class=\"block\" x=\"-15\" y=\"-15\" width=\"30\" height=\"30\"></rect><text class=\"label\" x=\"0\" y=\"0\">SU<tspan class=\"subscript\">2</tspan></text><line class=\"wire virtual\" x1=\"0\" y1=\"25\" x2=\"0\" y2=\"15\"></line></svg><svg viewBox=\"-25 -25 50 50\" width=\"50\" height=\"50\" y=\"50\"><line class=\"wire lane\" x1=\"-25\" y1=\"0\" x2=\"-15\" y2=\"0\"></line><line class=\"wire lane\" x1=\"25\" y1=\"0\" x2=\"15\" y2=\"0\"></line><rect class=\"block\" x=\"-15\" y=\"-15\" width=\"30\" height=\"30\"></rect><text class=\"label\" x=\"0\" y=\"0\">SU<tspan class=\"subscript\">2</tspan></text><line class=\"wire virtual\" x1=\"0\" y1=\"-25\" x2=\"0\" y2=\"-15\"></line></svg></svg></svg><style type=\"text/css\">    .wire {\n",
       "        stroke: black;\n",
       "        stroke-width: 2px;\n",
       "    }\n",
       "\n",
       "    .lane {}\n",
       "    .virtual {}\n",
       "\n",
       "    .block {\n",
       "        stroke: black;\n",
       "        fill: transparent;\n",
       "    }\n",
       "\n",
       "    text {\n",
       "        text-anchor: middle;\n",
       "        dominant-baseline: central;\n",
       "    }\n",
       "\n",
       "    subscript {\n",
       "        font-size: 60%;\n",
       "        baseline-shift: sub;\n",
       "    }\n",
       "\n",
       "    superscript {\n",
       "        font-size: 60%;\n",
       "        baseline-shift: super;\n",
       "    }\n",
       "</style></svg>"
      ],
      "text/plain": [
       "Circuit(#lanes=4, #gates=16)"
      ]
     },
     "metadata": {},
     "output_type": "display_data"
    }
   ],
   "source": [
    "using Quac\n",
    "\n",
    "n = 4\n",
    "circ = Quac.Algorithms.QuantumVolume(n, 2)\n",
    "\n",
    "function reorder_circuit_for_contiguity(original_circ::Circuit)\n",
    "    new_circ = Circuit(lanes(original_circ))  # Initialize a circuit with the same number of qubits\n",
    "    total_qubits = lanes(original_circ)\n",
    "\n",
    "    # Initialize positions for all qubits in the circuit\n",
    "    current_positions = Dict(i => i for i in 1:total_qubits)\n",
    "    for gate in original_circ  # Ensure you're iterating over gates correctly\n",
    "        # println(\"Original gate:\", gate)\n",
    "        if isa(gate, Quac.Gate)\n",
    "            qubits = collect(sort(gate.lanes|> collect))\n",
    "\n",
    "            # Ensure all qubits are in contiguous positions\n",
    "            start_qubit = qubits[1]\n",
    "            expected_qubits = start_qubit:(start_qubit + length(qubits) - 1)\n",
    "\n",
    "            println(\"start_qubit:\", start_qubit, \" expected_qubits:\", expected_qubits)\n",
    "\n",
    "            for (idx, actual_qubit) in enumerate(qubits)\n",
    "                expected_qubit = expected_qubits[idx]\n",
    "                if current_positions[actual_qubit] != expected_qubit\n",
    "                    # Swap is needed\n",
    "                    swap_q1 = current_positions[actual_qubit]\n",
    "                    swap_q2 = expected_qubit\n",
    "                    if swap_q1 > swap_q2\n",
    "                        swap_q1, swap_q2 = swap_q2, swap_q1\n",
    "                    end\n",
    "\n",
    "                    # Iteratively add Swap gates that are contiguous\n",
    "                    for q in swap_q1:(swap_q2 - 1)\n",
    "                        push!(new_circ, Swap(q, q + 1))\n",
    "                        # println(\"Adding Swap between $q and $(q + 1)\")\n",
    "\n",
    "                        # Perform the swap in the current position tracking\n",
    "                        current_positions[q], current_positions[q + 1] =\n",
    "                            current_positions[q + 1], current_positions[q]\n",
    "                    end\n",
    "                    # push!(new_circ, Swap(swap_q1, swap_q2))\n",
    "                    # println(\"Adding Swap between $swap_q1 and $swap_q2\")\n",
    "\n",
    "                    # # Perform the swap in the current position tracking\n",
    "                    # current_positions[swap_q1], current_positions[swap_q2] =\n",
    "                    #     current_positions[swap_q2], current_positions[swap_q1]\n",
    "                end\n",
    "            end\n",
    "\n",
    "            # Add the actual gate with correctly ordered qubits\n",
    "            new_qubits = [current_positions[q] for q in qubits]\n",
    "            # println(\"New qubits for gate:\", new_qubits)\n",
    "            modified_gate = typeof(gate.operator)(new_qubits...; matrix=gate.operator.matrix)\n",
    "            push!(new_circ, modified_gate)\n",
    "            # println(\"Adding modified gate with qubits $(new_qubits)\")\n",
    "        end\n",
    "    end\n",
    "    \n",
    "    return new_circ\n",
    "end\n",
    "\n",
    "\n",
    "circ2 = reorder_circuit_for_contiguity(deepcopy(circ))\n",
    "circ2"
   ]
  },
  {
   "cell_type": "code",
   "execution_count": 160,
   "metadata": {},
   "outputs": [
    {
     "data": {
      "image/svg+xml": [
       "<svg height=\"200\" width=\"150\"><svg height=\"200\" width=\"100\" x=\"0\"><svg width=\"50\" height=\"200\" x=\"0\"><svg width=\"50\" height=\"150\" y=\"0\"><svg viewBox=\"-25 -25 50 50\" width=\"50\" height=\"50\" y=\"0\"><line class=\"wire lane\" x1=\"-25\" y1=\"0\" x2=\"-15\" y2=\"0\"></line><line class=\"wire lane\" x1=\"25\" y1=\"0\" x2=\"15\" y2=\"0\"></line><rect class=\"block\" x=\"-15\" y=\"-15\" width=\"30\" height=\"30\"></rect><text class=\"label\" x=\"0\" y=\"0\">SU<tspan class=\"subscript\">2</tspan></text><line class=\"wire virtual\" x1=\"0\" y1=\"25\" x2=\"0\" y2=\"15\"></line></svg><svg viewBox=\"-25 -25 50 50\" width=\"50\" height=\"50\" y=\"50\"><line class=\"wire lane\" x1=\"-25\" y1=\"0\" x2=\"25\" y2=\"0\"></line><line class=\"wire virtual\" x1=\"0\" y1=\"-25\" x2=\"0\" y2=\"25\"></line></svg><svg viewBox=\"-25 -25 50 50\" width=\"50\" height=\"50\" y=\"100\"><line class=\"wire lane\" x1=\"-25\" y1=\"0\" x2=\"-15\" y2=\"0\"></line><line class=\"wire lane\" x1=\"25\" y1=\"0\" x2=\"15\" y2=\"0\"></line><rect class=\"block\" x=\"-15\" y=\"-15\" width=\"30\" height=\"30\"></rect><text class=\"label\" x=\"0\" y=\"0\">SU<tspan class=\"subscript\">2</tspan></text><line class=\"wire virtual\" x1=\"0\" y1=\"-25\" x2=\"0\" y2=\"-15\"></line></svg></svg><svg viewBox=\"-25 -25 50 50\" width=\"50\" height=\"50\" y=\"150\"><line class=\"wire lane\" x1=\"-25\" y1=\"0\" x2=\"25\" y2=\"0\"></line></svg></svg><svg width=\"50\" height=\"200\" x=\"50\"><svg viewBox=\"-25 -25 50 50\" width=\"50\" height=\"50\" y=\"0\"><line class=\"wire lane\" x1=\"-25\" y1=\"0\" x2=\"25\" y2=\"0\"></line></svg><svg width=\"50\" height=\"150\" y=\"50\"><svg viewBox=\"-25 -25 50 50\" width=\"50\" height=\"50\" y=\"0\"><line class=\"wire lane\" x1=\"-25\" y1=\"0\" x2=\"-15\" y2=\"0\"></line><line class=\"wire lane\" x1=\"25\" y1=\"0\" x2=\"15\" y2=\"0\"></line><rect class=\"block\" x=\"-15\" y=\"-15\" width=\"30\" height=\"30\"></rect><text class=\"label\" x=\"0\" y=\"0\">SU<tspan class=\"subscript\">2</tspan></text><line class=\"wire virtual\" x1=\"0\" y1=\"25\" x2=\"0\" y2=\"15\"></line></svg><svg viewBox=\"-25 -25 50 50\" width=\"50\" height=\"50\" y=\"50\"><line class=\"wire lane\" x1=\"-25\" y1=\"0\" x2=\"25\" y2=\"0\"></line><line class=\"wire virtual\" x1=\"0\" y1=\"-25\" x2=\"0\" y2=\"25\"></line></svg><svg viewBox=\"-25 -25 50 50\" width=\"50\" height=\"50\" y=\"100\"><line class=\"wire lane\" x1=\"-25\" y1=\"0\" x2=\"-15\" y2=\"0\"></line><line class=\"wire lane\" x1=\"25\" y1=\"0\" x2=\"15\" y2=\"0\"></line><rect class=\"block\" x=\"-15\" y=\"-15\" width=\"30\" height=\"30\"></rect><text class=\"label\" x=\"0\" y=\"0\">SU<tspan class=\"subscript\">2</tspan></text><line class=\"wire virtual\" x1=\"0\" y1=\"-25\" x2=\"0\" y2=\"-15\"></line></svg></svg></svg></svg><svg width=\"50\" height=\"200\" x=\"100\"><svg width=\"50\" height=\"100\" y=\"0\"><svg viewBox=\"-25 -25 50 50\" width=\"50\" height=\"50\" y=\"0\"><line class=\"wire lane\" x1=\"-25\" y1=\"0\" x2=\"-15\" y2=\"0\"></line><line class=\"wire lane\" x1=\"25\" y1=\"0\" x2=\"15\" y2=\"0\"></line><rect class=\"block\" x=\"-15\" y=\"-15\" width=\"30\" height=\"30\"></rect><text class=\"label\" x=\"0\" y=\"0\">SU<tspan class=\"subscript\">2</tspan></text><line class=\"wire virtual\" x1=\"0\" y1=\"25\" x2=\"0\" y2=\"15\"></line></svg><svg viewBox=\"-25 -25 50 50\" width=\"50\" height=\"50\" y=\"50\"><line class=\"wire lane\" x1=\"-25\" y1=\"0\" x2=\"-15\" y2=\"0\"></line><line class=\"wire lane\" x1=\"25\" y1=\"0\" x2=\"15\" y2=\"0\"></line><rect class=\"block\" x=\"-15\" y=\"-15\" width=\"30\" height=\"30\"></rect><text class=\"label\" x=\"0\" y=\"0\">SU<tspan class=\"subscript\">2</tspan></text><line class=\"wire virtual\" x1=\"0\" y1=\"-25\" x2=\"0\" y2=\"-15\"></line></svg></svg><svg width=\"50\" height=\"100\" y=\"100\"><svg viewBox=\"-25 -25 50 50\" width=\"50\" height=\"50\" y=\"0\"><line class=\"wire lane\" x1=\"-25\" y1=\"0\" x2=\"-15\" y2=\"0\"></line><line class=\"wire lane\" x1=\"25\" y1=\"0\" x2=\"15\" y2=\"0\"></line><rect class=\"block\" x=\"-15\" y=\"-15\" width=\"30\" height=\"30\"></rect><text class=\"label\" x=\"0\" y=\"0\">SU<tspan class=\"subscript\">2</tspan></text><line class=\"wire virtual\" x1=\"0\" y1=\"25\" x2=\"0\" y2=\"15\"></line></svg><svg viewBox=\"-25 -25 50 50\" width=\"50\" height=\"50\" y=\"50\"><line class=\"wire lane\" x1=\"-25\" y1=\"0\" x2=\"-15\" y2=\"0\"></line><line class=\"wire lane\" x1=\"25\" y1=\"0\" x2=\"15\" y2=\"0\"></line><rect class=\"block\" x=\"-15\" y=\"-15\" width=\"30\" height=\"30\"></rect><text class=\"label\" x=\"0\" y=\"0\">SU<tspan class=\"subscript\">2</tspan></text><line class=\"wire virtual\" x1=\"0\" y1=\"-25\" x2=\"0\" y2=\"-15\"></line></svg></svg></svg><style type=\"text/css\">    .wire {\n",
       "        stroke: black;\n",
       "        stroke-width: 2px;\n",
       "    }\n",
       "\n",
       "    .lane {}\n",
       "    .virtual {}\n",
       "\n",
       "    .block {\n",
       "        stroke: black;\n",
       "        fill: transparent;\n",
       "    }\n",
       "\n",
       "    text {\n",
       "        text-anchor: middle;\n",
       "        dominant-baseline: central;\n",
       "    }\n",
       "\n",
       "    subscript {\n",
       "        font-size: 60%;\n",
       "        baseline-shift: sub;\n",
       "    }\n",
       "\n",
       "    superscript {\n",
       "        font-size: 60%;\n",
       "        baseline-shift: super;\n",
       "    }\n",
       "</style></svg>"
      ],
      "text/plain": [
       "Circuit(#lanes=4, #gates=8)"
      ]
     },
     "metadata": {},
     "output_type": "display_data"
    }
   ],
   "source": [
    "circ"
   ]
  },
  {
   "cell_type": "code",
   "execution_count": 161,
   "metadata": {},
   "outputs": [
    {
     "data": {
      "text/plain": [
       "0-dimensional Tensor{ComplexF64, 0, Array{ComplexF64, 0}}:\n",
       "-0.019291346847351135 + 0.16631653866231402im"
      ]
     },
     "metadata": {},
     "output_type": "display_data"
    }
   ],
   "source": [
    "ψᵢₙ = Product(fill([1, 0], n))\n",
    "ψₒᵤₜ = Product(fill([1, 0], n))\n",
    "\n",
    "qtn = Quantum(circ2)\n",
    "\n",
    "Qrochet.@reindex! inputs(qtn) => outputs(ψᵢₙ)\n",
    "Qrochet.@reindex! outputs(qtn) => outputs(ψₒᵤₜ)\n",
    "\n",
    "contract(merge(TensorNetwork(ψᵢₙ), TensorNetwork(qtn), TensorNetwork(ψₒᵤₜ)))"
   ]
  },
  {
   "cell_type": "code",
   "execution_count": 162,
   "metadata": {},
   "outputs": [
    {
     "data": {
      "text/plain": [
       "0-dimensional Tensor{ComplexF64, 0, Array{ComplexF64, 0}}:\n",
       "-0.008867178734392758 + 0.2386427655998622im"
      ]
     },
     "metadata": {},
     "output_type": "display_data"
    }
   ],
   "source": [
    "ψᵢₙ = Product(fill([1, 0], n))\n",
    "ψₒᵤₜ = Product(fill([1, 0], n))\n",
    "\n",
    "qtn = Quantum(circ)\n",
    "\n",
    "Qrochet.@reindex! inputs(qtn) => outputs(ψᵢₙ)\n",
    "Qrochet.@reindex! outputs(qtn) => outputs(ψₒᵤₜ)\n",
    "\n",
    "contract(merge(TensorNetwork(ψᵢₙ), TensorNetwork(qtn), TensorNetwork(ψₒᵤₜ)))"
   ]
  },
  {
   "cell_type": "code",
   "execution_count": 183,
   "metadata": {},
   "outputs": [
    {
     "data": {
      "text/plain": [
       "0-dimensional Tensor{ComplexF64, 0, Array{ComplexF64, 0}}:\n",
       "-0.3413627071908595 - 0.04608833134114043im"
      ]
     },
     "metadata": {},
     "output_type": "display_data"
    }
   ],
   "source": [
    "ψᵢₙ = convert(Chain, Product(fill([1, 0], n)))\n",
    "ψₒᵤₜ = convert(Chain, Product(fill([1, 0], n)))\n",
    "\n",
    "canonize!(ψᵢₙ)\n",
    "# ψₒᵤₜ = convert(Chain, Product(fill([1, 0], n)))\n",
    "\n",
    "# Apply gates using `evolve!` function\n",
    "\n",
    "for gate in circ2\n",
    "    evolve!(ψᵢₙ, Qrochet.Dense(gate); maxdim=10, iscanonical=true)\n",
    "end\n",
    "\n",
    "Qrochet.@reindex! outputs(ψᵢₙ) => outputs(ψₒᵤₜ)\n",
    "\n",
    "contract(merge(TensorNetwork(ψᵢₙ), TensorNetwork(ψₒᵤₜ)))\n"
   ]
  },
  {
   "cell_type": "markdown",
   "metadata": {},
   "source": [
    "test"
   ]
  },
  {
   "cell_type": "code",
   "execution_count": 28,
   "metadata": {},
   "outputs": [],
   "source": [
    "using Quac\n",
    "\n",
    "# Set the number of qubits and the depth of the circuit\n",
    "n = 80\n",
    "depth = 30\n",
    "\n",
    "# Define the quantum circuit\n",
    "circ = Circuit(n)\n",
    "single_qubit_gates = [X, Y, Z, H]  # List of possible single-qubit gates\n",
    "two_qubit_gates = [Rxx, Ryy, Rzz]   # List of possible two-qubit gates\n",
    "\n",
    "# Populate the circuit with a mix of single and two-qubit random gates\n",
    "for layer in 1:depth\n",
    "    for qubit in 1:n\n",
    "        if rand() < 0.2\n",
    "            # 50% chance to add a single-qubit gate\n",
    "            gate = single_qubit_gates[rand(1:length(single_qubit_gates))]\n",
    "            push!(circ, gate(qubit))\n",
    "        else\n",
    "            # 50% chance to add a two-qubit gate\n",
    "            if qubit > 1\n",
    "                partner = qubit - 1\n",
    "            else\n",
    "                partner = qubit + 1\n",
    "            end\n",
    "            gate = two_qubit_gates[rand(1:length(two_qubit_gates))]\n",
    "            push!(circ, gate(partner, qubit))\n",
    "        end\n",
    "    end\n",
    "end\n",
    "\n",
    "# Display the created circuit\n",
    "# circ"
   ]
  },
  {
   "cell_type": "code",
   "execution_count": 29,
   "metadata": {},
   "outputs": [
    {
     "data": {
      "text/plain": [
       "(120324439163356, 33)"
      ]
     },
     "metadata": {},
     "output_type": "display_data"
    }
   ],
   "source": [
    "using EinExprs\n",
    "using Qrochet\n",
    "using Tenet\n",
    "\n",
    "qtn = Quantum(circ)\n",
    "\n",
    "ψᵢₙ = Product(fill([1, 0], n))\n",
    "ψₒᵤₜ = Product(fill([1, 0], n))\n",
    "\n",
    "Qrochet.@reindex! inputs(qtn) => outputs(ψᵢₙ)\n",
    "Qrochet.@reindex! outputs(qtn) => outputs(ψₒᵤₜ)\n",
    "\n",
    "tn = merge(TensorNetwork(ψᵢₙ), TensorNetwork(qtn), TensorNetwork(ψₒᵤₜ))\n",
    "\n",
    "path = einexpr(tn, optimizer=Greedy())\n",
    "\n",
    "total_flops = mapreduce(flops, +, Branches(path))\n",
    "max_dims = maximum(ndims, Branches(path))\n",
    "\n",
    "total_flops, max_dims"
   ]
  },
  {
   "cell_type": "code",
   "execution_count": 30,
   "metadata": {},
   "outputs": [
    {
     "ename": "InterruptException",
     "evalue": "InterruptException:",
     "output_type": "error",
     "traceback": [
      "InterruptException:\n",
      "\n",
      "Stacktrace:\n",
      "  [1] iterate(iter::NetworkLayout.LayoutIterator{NetworkLayout.Spring{2, Float64}, SparseArrays.SparseMatrixCSC{Int64, Int64}}, state::Tuple{Int64, Vector{Point2{Float64}}, Vector{StaticArraysCore.SVector{2, Bool}}})\n",
      "    @ NetworkLayout ~/.julia/packages/NetworkLayout/w1OXr/src/spring.jl:132\n",
      "  [2] layout(alg::NetworkLayout.Spring{2, Float64}, adj_matrix::SparseArrays.SparseMatrixCSC{Int64, Int64})\n",
      "    @ NetworkLayout ~/.julia/packages/NetworkLayout/w1OXr/src/NetworkLayout.jl:82\n",
      "  [3] layout\n",
      "    @ ~/.julia/packages/NetworkLayout/w1OXr/ext/NetworkLayoutGraphsExt.jl:12 [inlined]\n",
      "  [4] AbstractLayout\n",
      "    @ ~/.julia/packages/NetworkLayout/w1OXr/src/NetworkLayout.jl:34 [inlined]\n",
      "  [5] #19\n",
      "    @ ~/.julia/packages/GraphMakie/yyvus/src/recipes.jl:219 [inlined]\n",
      "  [6] (::GraphMakie.var\"#19#44\")(arg1#225::Graphs.SimpleGraphs.SimpleDiGraph{Int64}, arg2#226::NetworkLayout.Spring{2, Float64})\n",
      "    @ GraphMakie ./none:0\n",
      "  [7] #map#13\n",
      "    @ ~/.julia/packages/Observables/YdEbO/src/Observables.jl:570 [inlined]\n",
      "  [8] map(f::GraphMakie.var\"#19#44\", arg1::Observable{Graphs.SimpleGraphs.SimpleDiGraph{Int64}}, args::Observable{Any})\n",
      "    @ Observables ~/.julia/packages/Observables/YdEbO/src/Observables.jl:568\n",
      "  [9] plot!(gp::Combined{GraphMakie.graphplot, Tuple{Graphs.SimpleGraphs.SimpleDiGraph{Int64}}})\n",
      "    @ GraphMakie ~/.julia/packages/GraphMakie/yyvus/src/recipes.jl:212\n",
      " [10] plot!(scene::Scene, P::Type{Combined{GraphMakie.graphplot, Tuple{Graphs.SimpleGraphs.SimpleDiGraph{Int64}}}}, attributes::Attributes, input::Tuple{Observable{Graphs.SimpleGraphs.SimpleDiGraph{Int64}}}, args::Observable{Tuple{Graphs.SimpleGraphs.SimpleDiGraph{Int64}}})\n",
      "    @ Makie ~/.julia/packages/Makie/RgxaV/src/interfaces.jl:398\n",
      " [11] plot!(scene::Scene, P::Type{Combined{GraphMakie.graphplot}}, attributes::Attributes, args::Graphs.SimpleGraphs.SimpleDiGraph{Int64}; kw_attributes::@Kwargs{})\n",
      "    @ Makie ~/.julia/packages/Makie/RgxaV/src/interfaces.jl:310\n",
      " [12] plot!\n",
      "    @ ~/.julia/packages/Makie/RgxaV/src/interfaces.jl:275 [inlined]\n",
      " [13] plot!(la::Axis, P::Type{Combined{GraphMakie.graphplot}}, attributes::Attributes, args::Graphs.SimpleGraphs.SimpleDiGraph{Int64}; kw_attributes::@Kwargs{})\n",
      "    @ Makie ~/.julia/packages/Makie/RgxaV/src/makielayout/blocks/axis.jl:787\n",
      " [14] plot!\n",
      "    @ ~/.julia/packages/Makie/RgxaV/src/makielayout/blocks/axis.jl:775 [inlined]\n",
      " [15] #plot!#1553\n",
      "    @ ~/.julia/packages/Makie/RgxaV/src/makielayout/blocks/axis.jl:804 [inlined]\n",
      " [16] graphplot!(::Axis, ::Vararg{Any}; attributes::@Kwargs{edge_color::Vector{Int64}, node_color::Vector{Signed}, node_attr::@NamedTuple{colorrange::Tuple{BigInt, BigInt}, colormap::Vector{ColorTypes.RGBA{Float32}}, colorscale::typeof(log10), highclip::MakieCore.Automatic, lowclip::MakieCore.Automatic}, edge_attr::@NamedTuple{colorrange::Tuple{Int64, Int64}, colormap::Vector{ColorTypes.RGBA{Float32}}, colorscale::typeof(log2), highclip::MakieCore.Automatic, lowclip::MakieCore.Automatic}, edge_width::Vector{Float64}, elabels_color::Vector{Symbol}, elabels_textsize::Vector{Float64}, node_size::Vector{BigFloat}, arrow_size::Vector{Float64}, arrow_attr::@NamedTuple{colorrange::Tuple{Int64, Int64}, colormap::Vector{ColorTypes.RGBA{Float32}}, colorscale::typeof(log2), highclip::MakieCore.Automatic, lowclip::MakieCore.Automatic}})\n",
      "    @ GraphMakie ~/.julia/packages/MakieCore/tAY2U/src/recipes.jl:39\n",
      " [17] plot!(ax::Axis, path::SizedEinExpr{Symbol}; colormap::Vector{ColorTypes.RGBA{Float32}}, inds::Bool, kwargs::@Kwargs{})\n",
      "    @ EinExprsGraphMakieExt ~/.julia/packages/EinExprs/tnQcn/ext/EinExprsGraphMakieExt.jl:143\n",
      " [18] plot!(ax::Axis, path::SizedEinExpr{Symbol})\n",
      "    @ EinExprsGraphMakieExt ~/.julia/packages/EinExprs/tnQcn/ext/EinExprsGraphMakieExt.jl:66\n",
      " [19] plot!(f::GridPosition, path::SizedEinExpr{Symbol}; kwargs::@Kwargs{})\n",
      "    @ EinExprsGraphMakieExt ~/.julia/packages/EinExprs/tnQcn/ext/EinExprsGraphMakieExt.jl:36\n",
      " [20] plot!\n",
      "    @ ~/.julia/packages/EinExprs/tnQcn/ext/EinExprsGraphMakieExt.jl:24 [inlined]\n",
      " [21] #plot#1\n",
      "    @ ~/.julia/packages/EinExprs/tnQcn/ext/EinExprsGraphMakieExt.jl:20 [inlined]\n",
      " [22] plot(path::SizedEinExpr{Symbol})\n",
      "    @ EinExprsGraphMakieExt ~/.julia/packages/EinExprs/tnQcn/ext/EinExprsGraphMakieExt.jl:18\n",
      " [23] top-level scope\n",
      "    @ ~/git/benasque-notebook/notebook.ipynb:3"
     ]
    }
   ],
   "source": [
    "using CairoMakie\n",
    "\n",
    "plot(path)"
   ]
  },
  {
   "cell_type": "code",
   "execution_count": 12,
   "metadata": {},
   "outputs": [],
   "source": [
    "# using KaHyPar\n",
    "\n",
    "# qtn = Quantum(circ)\n",
    "\n",
    "# ψᵢₙ = Product(fill([1, 0], n))\n",
    "# ψₒᵤₜ = Product(fill([1, 0], n))\n",
    "\n",
    "# tn = merge(TensorNetwork(ψᵢₙ), TensorNetwork(qtn), TensorNetwork(ψₒᵤₜ))\n",
    "\n",
    "# path = einexpr(tn, optimizer=HyPar())\n",
    "\n",
    "# total_flops = mapreduce(flops, +, Branches(path))\n",
    "# max_dims = maximum(ndims, Branches(path))\n",
    "\n",
    "# total_flops, max_dims"
   ]
  },
  {
   "cell_type": "code",
   "execution_count": 26,
   "metadata": {},
   "outputs": [
    {
     "data": {
      "text/plain": [
       "0-dimensional Tensor{ComplexF64, 0, Array{ComplexF64, 0}}:\n",
       "0.0 + 0.0im"
      ]
     },
     "metadata": {},
     "output_type": "display_data"
    }
   ],
   "source": [
    "qtn = Quantum(circ)\n",
    "\n",
    "ψᵢₙ = Product(fill([1, 0], n))\n",
    "ψₒᵤₜ = Product(fill([1, 0], n))\n",
    "\n",
    "Qrochet.@reindex! inputs(qtn) => outputs(ψᵢₙ)\n",
    "Qrochet.@reindex! outputs(qtn) => outputs(ψₒᵤₜ)\n",
    "\n",
    "tn = merge(TensorNetwork(ψᵢₙ), TensorNetwork(qtn), TensorNetwork(ψₒᵤₜ))\n",
    "\n",
    "contract(tn)"
   ]
  },
  {
   "cell_type": "code",
   "execution_count": 34,
   "metadata": {},
   "outputs": [
    {
     "data": {
      "text/plain": [
       "0-dimensional Tensor{ComplexF64, 0, Array{ComplexF64, 0}}:\n",
       "0.0 + 0.0im"
      ]
     },
     "metadata": {},
     "output_type": "display_data"
    }
   ],
   "source": [
    "ψᵢₙ = convert(Chain, Product(fill([1, 0], n)))\n",
    "ψₒᵤₜ = convert(Chain, Product(fill([1, 0], n)))\n",
    "\n",
    "canonize!(ψᵢₙ)\n",
    "\n",
    "# Apply gates using `evolve!` function\n",
    "for gate in circ\n",
    "    evolve!(ψᵢₙ, Qrochet.Dense(gate); maxdim=16, iscanonical=true)\n",
    "end\n",
    "\n",
    "Qrochet.@reindex! outputs(ψᵢₙ) => outputs(ψₒᵤₜ)\n",
    "\n",
    "contract(merge(TensorNetwork(ψᵢₙ), TensorNetwork(ψₒᵤₜ)))\n"
   ]
  },
  {
   "cell_type": "markdown",
   "metadata": {},
   "source": [
    "### Transfer Ising Model"
   ]
  },
  {
   "cell_type": "markdown",
   "metadata": {},
   "source": [
    "$H = -\\sum_{\\braket{i,j}} \\sigma_{X}^{(i)} \\sigma_{X}^{(j)} + \\lambda \\sum_i \\sigma_Z^{(i)}$"
   ]
  },
  {
   "cell_type": "code",
   "execution_count": 70,
   "metadata": {},
   "outputs": [
    {
     "data": {
      "text/plain": [
       "1-element Vector{Dense}:\n",
       " Dense (inputs=1, outputs=1)"
      ]
     },
     "metadata": {},
     "output_type": "display_data"
    }
   ],
   "source": [
    "observables = Dense.([Z(5)])\n"
   ]
  },
  {
   "cell_type": "code",
   "execution_count": null,
   "metadata": {},
   "outputs": [],
   "source": []
  }
 ],
 "metadata": {
  "kernelspec": {
   "display_name": "Julia 1.10.2",
   "language": "julia",
   "name": "julia-1.10"
  },
  "language_info": {
   "file_extension": ".jl",
   "mimetype": "application/julia",
   "name": "julia",
   "version": "1.10.2"
  },
  "orig_nbformat": 4
 },
 "nbformat": 4,
 "nbformat_minor": 2
}
